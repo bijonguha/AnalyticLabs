{
 "cells": [
  {
   "cell_type": "markdown",
   "metadata": {},
   "source": [
    "# Data Pre-Processing Report\n",
    "\n",
    "## Issues:\n",
    "1. Data Imbalance<br>\n",
    "        1.1 Example Class 0 has ~22k images while Class 4 has 678 images [huge imbalance]\n",
    "    \n",
    "2. Presence of poor quality of images<br>\n",
    "        2.1 Blurry images<br>\n",
    "        2.2 Low contrast images<br>\n",
    "        2.3 Images with low brightness<br>\n",
    "\n",
    "## Solution tried :\n",
    "1. Removing blurry images\n",
    "2. Contrast and Brightness correction\n",
    "3. Image data aumentation Ex Cropping, Brightness-Contrast change, log transform \n",
    "   to increase images in class which has lesser number"
   ]
  },
  {
   "cell_type": "code",
   "execution_count": 0,
   "metadata": {
    "colab": {
     "base_uri": "https://localhost:8080/",
     "height": 52
    },
    "colab_type": "code",
    "id": "DLtqreZORZYx",
    "outputId": "5b8287ec-b231-4581-9542-2d433d6e53ee"
   },
   "outputs": [
    {
     "name": "stdout",
     "output_type": "stream",
     "text": [
      "\u001b[?25l\r",
      "\u001b[K    1% |▎                               | 10kB 21.8MB/s eta 0:00:01\r",
      "\u001b[K    2% |▋                               | 20kB 4.7MB/s eta 0:00:01\r",
      "\u001b[K    3% |█                               | 30kB 6.5MB/s eta 0:00:01\r",
      "\u001b[K    4% |█▎                              | 40kB 4.2MB/s eta 0:00:01\r",
      "\u001b[K    5% |█▋                              | 51kB 5.1MB/s eta 0:00:01\r",
      "\u001b[K    6% |██                              | 61kB 6.0MB/s eta 0:00:01\r",
      "\u001b[K    7% |██▎                             | 71kB 6.8MB/s eta 0:00:01\r",
      "\u001b[K    8% |██▋                             | 81kB 7.6MB/s eta 0:00:01\r",
      "\u001b[K    9% |███                             | 92kB 8.4MB/s eta 0:00:01\r",
      "\u001b[K    10% |███▎                            | 102kB 6.8MB/s eta 0:00:01\r",
      "\u001b[K    11% |███▋                            | 112kB 6.9MB/s eta 0:00:01\r",
      "\u001b[K    12% |████                            | 122kB 9.1MB/s eta 0:00:01\r",
      "\u001b[K    13% |████▎                           | 133kB 9.1MB/s eta 0:00:01\r",
      "\u001b[K    14% |████▋                           | 143kB 16.0MB/s eta 0:00:01\r",
      "\u001b[K    15% |█████                           | 153kB 16.1MB/s eta 0:00:01\r",
      "\u001b[K    16% |█████▎                          | 163kB 16.1MB/s eta 0:00:01\r",
      "\u001b[K    17% |█████▋                          | 174kB 16.2MB/s eta 0:00:01\r",
      "\u001b[K    18% |██████                          | 184kB 16.5MB/s eta 0:00:01\r",
      "\u001b[K    19% |██████▎                         | 194kB 16.5MB/s eta 0:00:01\r",
      "\u001b[K    20% |██████▋                         | 204kB 38.9MB/s eta 0:00:01\r",
      "\u001b[K    21% |███████                         | 215kB 19.9MB/s eta 0:00:01\r",
      "\u001b[K    22% |███████▎                        | 225kB 19.9MB/s eta 0:00:01\r",
      "\u001b[K    23% |███████▋                        | 235kB 20.2MB/s eta 0:00:01\r",
      "\u001b[K    24% |████████                        | 245kB 20.2MB/s eta 0:00:01\r",
      "\u001b[K    25% |████████▎                       | 256kB 20.4MB/s eta 0:00:01\r",
      "\u001b[K    26% |████████▋                       | 266kB 19.4MB/s eta 0:00:01\r",
      "\u001b[K    27% |█████████                       | 276kB 19.9MB/s eta 0:00:01\r",
      "\u001b[K    29% |█████████▎                      | 286kB 19.9MB/s eta 0:00:01\r",
      "\u001b[K    30% |█████████▋                      | 296kB 19.8MB/s eta 0:00:01\r",
      "\u001b[K    31% |██████████                      | 307kB 21.0MB/s eta 0:00:01\r",
      "\u001b[K    32% |██████████▎                     | 317kB 44.2MB/s eta 0:00:01\r",
      "\u001b[K    33% |██████████▋                     | 327kB 44.5MB/s eta 0:00:01\r",
      "\u001b[K    34% |███████████                     | 337kB 46.5MB/s eta 0:00:01\r",
      "\u001b[K    35% |███████████▎                    | 348kB 42.8MB/s eta 0:00:01\r",
      "\u001b[K    36% |███████████▋                    | 358kB 42.5MB/s eta 0:00:01\r",
      "\u001b[K    37% |████████████                    | 368kB 48.1MB/s eta 0:00:01\r",
      "\u001b[K    38% |████████████▎                   | 378kB 47.7MB/s eta 0:00:01\r",
      "\u001b[K    39% |████████████▋                   | 389kB 48.1MB/s eta 0:00:01\r",
      "\u001b[K    40% |█████████████                   | 399kB 29.3MB/s eta 0:00:01\r",
      "\u001b[K    41% |█████████████▎                  | 409kB 28.8MB/s eta 0:00:01\r",
      "\u001b[K    42% |█████████████▋                  | 419kB 29.3MB/s eta 0:00:01\r",
      "\u001b[K    43% |██████████████                  | 430kB 28.5MB/s eta 0:00:01\r",
      "\u001b[K    44% |██████████████▎                 | 440kB 28.2MB/s eta 0:00:01\r",
      "\u001b[K    45% |██████████████▋                 | 450kB 28.9MB/s eta 0:00:01\r",
      "\u001b[K    46% |███████████████                 | 460kB 28.9MB/s eta 0:00:01\r",
      "\u001b[K    47% |███████████████▎                | 471kB 28.9MB/s eta 0:00:01\r",
      "\u001b[K    48% |███████████████▋                | 481kB 28.7MB/s eta 0:00:01\r",
      "\u001b[K    49% |████████████████                | 491kB 28.6MB/s eta 0:00:01\r",
      "\u001b[K    50% |████████████████▎               | 501kB 46.4MB/s eta 0:00:01\r",
      "\u001b[K    51% |████████████████▋               | 512kB 44.6MB/s eta 0:00:01\r",
      "\u001b[K    52% |█████████████████               | 522kB 44.8MB/s eta 0:00:01\r",
      "\u001b[K    53% |█████████████████▎              | 532kB 46.5MB/s eta 0:00:01\r",
      "\u001b[K    54% |█████████████████▋              | 542kB 47.0MB/s eta 0:00:01\r",
      "\u001b[K    55% |██████████████████              | 552kB 50.4MB/s eta 0:00:01\r",
      "\u001b[K    57% |██████████████████▎             | 563kB 50.7MB/s eta 0:00:01\r",
      "\u001b[K    58% |██████████████████▋             | 573kB 49.3MB/s eta 0:00:01\r",
      "\u001b[K    59% |███████████████████             | 583kB 49.7MB/s eta 0:00:01\r",
      "\u001b[K    60% |███████████████████▎            | 593kB 49.7MB/s eta 0:00:01\r",
      "\u001b[K    61% |███████████████████▋            | 604kB 49.0MB/s eta 0:00:01\r",
      "\u001b[K    62% |████████████████████            | 614kB 52.0MB/s eta 0:00:01\r",
      "\u001b[K    63% |████████████████████▎           | 624kB 49.6MB/s eta 0:00:01\r",
      "\u001b[K    64% |████████████████████▋           | 634kB 50.4MB/s eta 0:00:01\r",
      "\u001b[K    65% |█████████████████████           | 645kB 48.9MB/s eta 0:00:01\r",
      "\u001b[K    66% |█████████████████████▎          | 655kB 46.0MB/s eta 0:00:01\r",
      "\u001b[K    67% |█████████████████████▋          | 665kB 37.6MB/s eta 0:00:01\r",
      "\u001b[K    68% |██████████████████████          | 675kB 37.8MB/s eta 0:00:01\r",
      "\u001b[K    69% |██████████████████████▎         | 686kB 38.0MB/s eta 0:00:01\r",
      "\u001b[K    70% |██████████████████████▋         | 696kB 37.9MB/s eta 0:00:01\r",
      "\u001b[K    71% |███████████████████████         | 706kB 38.1MB/s eta 0:00:01\r",
      "\u001b[K    72% |███████████████████████▎        | 716kB 38.6MB/s eta 0:00:01\r",
      "\u001b[K    73% |███████████████████████▋        | 727kB 39.0MB/s eta 0:00:01\r",
      "\u001b[K    74% |████████████████████████        | 737kB 38.6MB/s eta 0:00:01\r",
      "\u001b[K    75% |████████████████████████▎       | 747kB 39.4MB/s eta 0:00:01\r",
      "\u001b[K    76% |████████████████████████▋       | 757kB 41.3MB/s eta 0:00:01\r",
      "\u001b[K    77% |████████████████████████▉       | 768kB 52.0MB/s eta 0:00:01\r",
      "\u001b[K    78% |█████████████████████████▏      | 778kB 52.6MB/s eta 0:00:01\r",
      "\u001b[K    79% |█████████████████████████▌      | 788kB 51.1MB/s eta 0:00:01\r",
      "\u001b[K    80% |█████████████████████████▉      | 798kB 51.3MB/s eta 0:00:01\r",
      "\u001b[K    81% |██████████████████████████▏     | 808kB 51.7MB/s eta 0:00:01\r",
      "\u001b[K    82% |██████████████████████████▌     | 819kB 51.6MB/s eta 0:00:01\r",
      "\u001b[K    83% |██████████████████████████▉     | 829kB 53.4MB/s eta 0:00:01\r",
      "\u001b[K    85% |███████████████████████████▏    | 839kB 53.6MB/s eta 0:00:01\r",
      "\u001b[K    86% |███████████████████████████▌    | 849kB 53.0MB/s eta 0:00:01\r",
      "\u001b[K    87% |███████████████████████████▉    | 860kB 48.0MB/s eta 0:00:01\r",
      "\u001b[K    88% |████████████████████████████▏   | 870kB 47.5MB/s eta 0:00:01\r",
      "\u001b[K    89% |████████████████████████████▌   | 880kB 48.2MB/s eta 0:00:01\r",
      "\u001b[K    90% |████████████████████████████▉   | 890kB 49.4MB/s eta 0:00:01\r",
      "\u001b[K    91% |█████████████████████████████▏  | 901kB 49.0MB/s eta 0:00:01\r",
      "\u001b[K    92% |█████████████████████████████▌  | 911kB 49.1MB/s eta 0:00:01\r",
      "\u001b[K    93% |█████████████████████████████▉  | 921kB 48.6MB/s eta 0:00:01\r",
      "\u001b[K    94% |██████████████████████████████▏ | 931kB 48.7MB/s eta 0:00:01\r",
      "\u001b[K    95% |██████████████████████████████▌ | 942kB 48.9MB/s eta 0:00:01\r",
      "\u001b[K    96% |██████████████████████████████▉ | 952kB 49.2MB/s eta 0:00:01\r",
      "\u001b[K    97% |███████████████████████████████▏| 962kB 55.0MB/s eta 0:00:01\r",
      "\u001b[K    98% |███████████████████████████████▌| 972kB 55.0MB/s eta 0:00:01\r",
      "\u001b[K    99% |███████████████████████████████▉| 983kB 53.4MB/s eta 0:00:01\r",
      "\u001b[K    100% |████████████████████████████████| 993kB 19.8MB/s \n",
      "\u001b[?25h  Building wheel for PyDrive (setup.py) ... \u001b[?25ldone\n",
      "\u001b[?25h"
     ]
    }
   ],
   "source": [
    "!pip install -U -q PyDrive\n",
    "from pydrive.auth import GoogleAuth\n",
    "from pydrive.drive import GoogleDrive\n",
    "from google.colab import auth\n",
    "from oauth2client.client import GoogleCredentials\n",
    "\n",
    "# 1. Authenticate and create the PyDrive client.\n",
    "auth.authenticate_user()\n",
    "gauth = GoogleAuth()\n",
    "gauth.credentials = GoogleCredentials.get_application_default()\n",
    "drive = GoogleDrive(gauth)"
   ]
  },
  {
   "cell_type": "markdown",
   "metadata": {},
   "source": [
    "# Import Data\n",
    "Creating a directory data_dump where zip files of train and test will be downloaded from kaggle to google drive \n",
    "1. Download data using kaggle python package"
   ]
  },
  {
   "cell_type": "code",
   "execution_count": 0,
   "metadata": {
    "colab": {
     "base_uri": "https://localhost:8080/",
     "height": 816
    },
    "colab_type": "code",
    "collapsed": true,
    "id": "UvzrO0flRs_-",
    "outputId": "9f0c7ba6-f772-434f-d2c9-0242e23860bc"
   },
   "outputs": [
    {
     "name": "stdout",
     "output_type": "stream",
     "text": [
      "Warning: Your Kaggle API key is readable by other users on this system! To fix this, you can run 'chmod 600 /root/.kaggle/kaggle.json'\n",
      "Downloading trainLabels.csv.zip to datalab\n",
      "  0% 0.00/69.4k [00:00<?, ?B/s]\n",
      "100% 69.4k/69.4k [00:00<00:00, 59.1MB/s]\n",
      "Downloading sampleSubmission.csv.zip to datalab\n",
      "  0% 0.00/81.6k [00:00<?, ?B/s]\n",
      "100% 81.6k/81.6k [00:00<00:00, 85.0MB/s]\n",
      "Downloading sample.zip to datalab\n",
      " 48% 5.00M/10.4M [00:00<00:00, 19.5MB/s]\n",
      "100% 10.4M/10.4M [00:00<00:00, 34.6MB/s]\n",
      "Downloading train.zip.004 to datalab\n",
      "100% 7.81G/7.81G [00:57<00:00, 110MB/s]\n",
      "100% 7.81G/7.81G [00:57<00:00, 147MB/s]\n",
      "Downloading train.zip.002 to datalab\n",
      "100% 7.80G/7.81G [00:56<00:00, 175MB/s]\n",
      "100% 7.81G/7.81G [00:57<00:00, 147MB/s]\n",
      "Downloading train.zip.001 to datalab\n",
      "100% 7.80G/7.81G [00:57<00:00, 166MB/s]\n",
      "100% 7.81G/7.81G [00:57<00:00, 146MB/s]\n",
      "Downloading train.zip.005 to datalab\n",
      "100% 1.33G/1.34G [00:08<00:00, 175MB/s]\n",
      "100% 1.34G/1.34G [00:08<00:00, 160MB/s]\n",
      "Downloading train.zip.003 to datalab\n",
      "100% 7.81G/7.81G [00:57<00:00, 180MB/s]\n",
      "100% 7.81G/7.81G [00:57<00:00, 146MB/s]\n",
      "Downloading test.zip.004 to datalab\n",
      "100% 7.81G/7.81G [02:17<00:00, 72.7MB/s]\n",
      "100% 7.81G/7.81G [02:17<00:00, 60.9MB/s]\n",
      "Downloading test.zip.005 to datalab\n",
      "100% 7.80G/7.81G [02:15<00:00, 60.1MB/s]\n",
      "100% 7.81G/7.81G [02:15<00:00, 61.9MB/s]\n",
      "Downloading test.zip.002 to datalab\n",
      "100% 7.80G/7.81G [02:17<00:00, 82.2MB/s]\n",
      "100% 7.81G/7.81G [02:17<00:00, 61.0MB/s]\n",
      "Downloading test.zip.003 to datalab\n",
      "100% 7.80G/7.81G [02:37<00:00, 51.3MB/s]\n",
      "100% 7.81G/7.81G [02:37<00:00, 53.2MB/s]\n",
      "Downloading test.zip.001 to datalab\n",
      "100% 7.80G/7.81G [02:25<00:00, 46.5MB/s]\n",
      "100% 7.81G/7.81G [02:25<00:00, 57.6MB/s]\n",
      "Downloading test.zip.006 to datalab\n",
      "100% 7.81G/7.81G [02:23<00:00, 40.7MB/s]\n",
      "100% 7.81G/7.81G [02:23<00:00, 58.4MB/s]\n",
      "Downloading test.zip.007 to datalab\n",
      "100% 2.74G/2.75G [00:50<00:00, 71.5MB/s]\n",
      "100% 2.75G/2.75G [00:50<00:00, 58.1MB/s]\n"
     ]
    }
   ],
   "source": [
    "!mkdir ~/.kaggle\n",
    "!echo '{\"username\":\"farha\",\"key\":\"$$$$$$$$$$$$$\"}' > ~/.kaggle/kaggle.json\n",
    "!kaggle competitions download -c diabetic-retinopathy-detection -p data_dump"
   ]
  },
  {
   "cell_type": "markdown",
   "metadata": {},
   "source": [
    "#### Using 7zip (by default in google collab) to unzip data"
   ]
  },
  {
   "cell_type": "code",
   "execution_count": 0,
   "metadata": {
    "colab": {},
    "colab_type": "code",
    "id": "jy_YGku8Rw5-"
   },
   "outputs": [],
   "source": [
    "!7z x data_dump/train.zip.001\n",
    "!unzip data_dump/trainLabels.csv.zip"
   ]
  },
  {
   "cell_type": "markdown",
   "metadata": {},
   "source": [
    "#### Transfering test and train to tmp folder"
   ]
  },
  {
   "cell_type": "code",
   "execution_count": 0,
   "metadata": {
    "colab": {},
    "colab_type": "code",
    "id": "r2l3Py53Rygd"
   },
   "outputs": [],
   "source": [
    "!mkdir tmp\n",
    "!mv train tmp"
   ]
  },
  {
   "cell_type": "markdown",
   "metadata": {},
   "source": [
    "# Pre-Processing"
   ]
  },
  {
   "cell_type": "code",
   "execution_count": 1,
   "metadata": {
    "colab": {},
    "colab_type": "code",
    "id": "VpDETeBfR2w8"
   },
   "outputs": [],
   "source": [
    "#importing required libraries\n",
    "import pandas as pd\n",
    "import os\n",
    "import random\n",
    "import math\n",
    "import numpy as np\n",
    "import cv2\n",
    "import matplotlib.pyplot as plt\n",
    "import matplotlib.patches as patches\n",
    "from sklearn.utils import shuffle\n",
    "from tqdm import tqdm_notebook\n",
    "import warnings\n",
    "from imutils import paths\n",
    "from PIL import Image\n",
    "from skimage import io\n",
    "from skimage import exposure\n",
    "\n",
    "warnings.filterwarnings('ignore')\n",
    "%matplotlib inline"
   ]
  },
  {
   "cell_type": "markdown",
   "metadata": {},
   "source": [
    "#### Head of train label file"
   ]
  },
  {
   "cell_type": "code",
   "execution_count": 2,
   "metadata": {
    "colab": {
     "base_uri": "https://localhost:8080/",
     "height": 206
    },
    "colab_type": "code",
    "id": "erzVi7zdR47r",
    "outputId": "c508902b-047f-4623-cb6e-c0fe38c8caa0"
   },
   "outputs": [
    {
     "data": {
      "text/html": [
       "<div>\n",
       "<style scoped>\n",
       "    .dataframe tbody tr th:only-of-type {\n",
       "        vertical-align: middle;\n",
       "    }\n",
       "\n",
       "    .dataframe tbody tr th {\n",
       "        vertical-align: top;\n",
       "    }\n",
       "\n",
       "    .dataframe thead th {\n",
       "        text-align: right;\n",
       "    }\n",
       "</style>\n",
       "<table border=\"1\" class=\"dataframe\">\n",
       "  <thead>\n",
       "    <tr style=\"text-align: right;\">\n",
       "      <th></th>\n",
       "      <th>image</th>\n",
       "      <th>level</th>\n",
       "    </tr>\n",
       "  </thead>\n",
       "  <tbody>\n",
       "    <tr>\n",
       "      <td>0</td>\n",
       "      <td>10_left</td>\n",
       "      <td>0</td>\n",
       "    </tr>\n",
       "    <tr>\n",
       "      <td>1</td>\n",
       "      <td>10_right</td>\n",
       "      <td>0</td>\n",
       "    </tr>\n",
       "    <tr>\n",
       "      <td>2</td>\n",
       "      <td>13_left</td>\n",
       "      <td>0</td>\n",
       "    </tr>\n",
       "    <tr>\n",
       "      <td>3</td>\n",
       "      <td>13_right</td>\n",
       "      <td>0</td>\n",
       "    </tr>\n",
       "    <tr>\n",
       "      <td>4</td>\n",
       "      <td>15_left</td>\n",
       "      <td>1</td>\n",
       "    </tr>\n",
       "  </tbody>\n",
       "</table>\n",
       "</div>"
      ],
      "text/plain": [
       "      image  level\n",
       "0   10_left      0\n",
       "1  10_right      0\n",
       "2   13_left      0\n",
       "3  13_right      0\n",
       "4   15_left      1"
      ]
     },
     "execution_count": 2,
     "metadata": {},
     "output_type": "execute_result"
    }
   ],
   "source": [
    "trainLabels = pd.read_csv(\"data/trainLabels.csv\")\n",
    "trainLabels.head()"
   ]
  },
  {
   "cell_type": "markdown",
   "metadata": {},
   "source": [
    "#### Creating different directories for different classes of diabetic eye for classification"
   ]
  },
  {
   "cell_type": "code",
   "execution_count": 0,
   "metadata": {
    "colab": {},
    "colab_type": "code",
    "id": "LLPuhLS8R_Ft"
   },
   "outputs": [],
   "source": [
    "!mkdir data/train/0\n",
    "!mkdir data/train/1\n",
    "!mkdir data/train/2\n",
    "!mkdir data/train/3\n",
    "!mkdir data/train/4\n"
   ]
  },
  {
   "cell_type": "code",
   "execution_count": 11,
   "metadata": {},
   "outputs": [
    {
     "data": {
      "text/plain": [
       "('data/train/27510_left.jpeg', 'data/train/2/27510_left.jpeg')"
      ]
     },
     "execution_count": 11,
     "metadata": {},
     "output_type": "execute_result"
    }
   ],
   "source": [
    "os.path.splitext(file)[0]\n",
    "trainLabels.loc[trainLabels.image==fileName, 'level'].values[0] \n",
    "base_dir + file, base_dir + str(folder_name) + \"/\" + file"
   ]
  },
  {
   "cell_type": "markdown",
   "metadata": {},
   "source": [
    "#### Using trainLabels file to segregrate into different classes"
   ]
  },
  {
   "cell_type": "code",
   "execution_count": 13,
   "metadata": {
    "colab": {},
    "colab_type": "code",
    "id": "gYqziQBpSB_Y"
   },
   "outputs": [],
   "source": [
    "base_dir = \"data/train/\"\n",
    "\n",
    "for file in listing:\n",
    "    try:\n",
    "        fileName = os.path.splitext(file)[0]\n",
    "        folder_name = trainLabels.loc[trainLabels.image==fileName, 'level'].values[0]  \n",
    "        os.rename(base_dir + file, base_dir + str(folder_name) + \"/\" + file )\n",
    "    except:\n",
    "        print(\"error\")\n",
    "        pass"
   ]
  },
  {
   "cell_type": "markdown",
   "metadata": {},
   "source": [
    "#### For verification checking files in class 0 ~ 25,810 images"
   ]
  },
  {
   "cell_type": "code",
   "execution_count": 6,
   "metadata": {
    "colab": {
     "base_uri": "https://localhost:8080/",
     "height": 34
    },
    "colab_type": "code",
    "id": "dZvD_3RoSEBc",
    "outputId": "ef9d8b53-e725-4c72-bb0d-2c51ff3f962e"
   },
   "outputs": [
    {
     "name": "stderr",
     "output_type": "stream",
     "text": [
      "'ls' is not recognized as an internal or external command,\n",
      "operable program or batch file.\n"
     ]
    }
   ],
   "source": [
    "!ls data/train/0 | wc -l"
   ]
  },
  {
   "cell_type": "markdown",
   "metadata": {},
   "source": [
    "### Variance Of Laplacian\n",
    "\n",
    "Laplacian of image gives edges present in an image. Blurry images have less edges so variance of edges will be lesser than as compared to sharp images. Thus a well focused image is expected to have a high variation in grey levels.\n",
    "\n",
    "[1] R. Bansal, G. Raj and T. Choudhury, \"Blur image detection using Laplacian operator and Open-CV,\" 2016 International Conference System Modeling & Advancement in Research Trends (SMART), Moradabad, 2016, pp. 63-67."
   ]
  },
  {
   "cell_type": "code",
   "execution_count": 4,
   "metadata": {
    "colab": {},
    "colab_type": "code",
    "id": "QagMX8GJkkyw"
   },
   "outputs": [],
   "source": [
    "def variance_of_laplacian(image):\n",
    "    # compute the Laplacian of the image and then return the focus\n",
    "    # measure, which is simply the variance of the Laplacian\n",
    "    return cv2.Laplacian(image, cv2.CV_64F).var()"
   ]
  },
  {
   "cell_type": "code",
   "execution_count": 5,
   "metadata": {
    "colab": {},
    "colab_type": "code",
    "id": "cqLUSl-mklt0"
   },
   "outputs": [],
   "source": [
    "def blur_check(PATH): \n",
    "    image_dict = {}\n",
    "    list_of_images = os.listdir(PATH)\n",
    "    for im in list_of_images:\n",
    "        image = cv2.imread(PATH+im)\n",
    "        gray = cv2.cvtColor(image, cv2.COLOR_BGR2GRAY)\n",
    "        fm = variance_of_laplacian(gray)\n",
    "        #plt.imshow(image);\n",
    "        #plt.show()\n",
    "        image_dict[im]= fm \n",
    "    return image_dict"
   ]
  },
  {
   "cell_type": "markdown",
   "metadata": {},
   "source": [
    "#### Function for image resizing and overwriting existing image"
   ]
  },
  {
   "cell_type": "code",
   "execution_count": 6,
   "metadata": {},
   "outputs": [],
   "source": [
    "def image_resz_pad(img, desired_size=512, resize = True):\n",
    "    '''\n",
    "    Function to resize image with padding or pad to square to a desired size\n",
    "\n",
    "    Parameters\n",
    "    ----------\n",
    "    img : uint8 2D/3D\n",
    "    desired_size : int, optional\n",
    "        size of resized image with padded. or pad to a particular size  \n",
    "        The default is 1000.\n",
    "    resize : bool, optional\n",
    "        True if resize also required or else false for only square padding. \n",
    "        The default is True.\n",
    "\n",
    "    Returns\n",
    "    -------\n",
    "    result_ : img uint8 \n",
    "\n",
    "    '''\n",
    "    img = img.copy()\n",
    "\n",
    "    old_size = img.shape[:2]\n",
    "\n",
    "    #calculating aspect ratio\n",
    "    ratio = float(desired_size)/max(old_size)\n",
    "    \n",
    "    if(resize): #if resize is required\n",
    "        new_size = tuple([int(x*ratio) for x in old_size])\n",
    "        img = cv2.resize(img, (new_size[1], new_size[0]))\n",
    "        delta_w = desired_size - new_size[1]\n",
    "        delta_h = desired_size - new_size[0]\n",
    "\n",
    "    else: #if only square padding is required to desired size\n",
    "        delta_w = desired_size - old_size[1]\n",
    "        delta_h = desired_size - old_size[0]\n",
    "\n",
    "    top, bottom = delta_h//2, delta_h-(delta_h//2)\n",
    "    left, right = delta_w//2, delta_w-(delta_w//2)\n",
    "    \n",
    "    #making padding with replication\n",
    "    result_ = cv2.copyMakeBorder(img, top, bottom, left, right, cv2.BORDER_CONSTANT)\n",
    "\n",
    "    return result_\n",
    "\n",
    "def find_eye(path, sz=256):\n",
    "    '''\n",
    "    Function to find eye in image, crop it and save as sz*sz image\n",
    "\n",
    "    Parameters\n",
    "    ----------\n",
    "    path : str \n",
    "        Image Path\n",
    "    Returns\n",
    "    -------\n",
    "    -1/1 : Bad image quality\n",
    "    img  : cv2, uint8, 256*256    \n",
    "    '''\n",
    "    #reading image    \n",
    "    img = cv2.imread(path)\n",
    "    #resizing image with aspect ratio preserved\n",
    "    resized = image_resz_pad(img)\n",
    "    #converting image to black and white\n",
    "    img_bw = cv2.cvtColor(resized, cv2.COLOR_BGR2GRAY)\n",
    "    #Black and white image thresholding\n",
    "    ret,thresh1 = cv2.threshold(img_bw,20,255,cv2.THRESH_BINARY)\n",
    "    #Image Closing [Dilation followed by opening]\n",
    "    kernel_temp = np.ones((5,5), np.uint8) \n",
    "    dil = cv2.dilate(thresh1, kernel_temp, iterations=7)\n",
    "    ero = cv2.erode(dil, kernel_temp, iterations=7)\n",
    "    #plt.imshow(ero)\n",
    "    \n",
    "    #Finding contours in image\n",
    "    contours,hierarchy = cv2.findContours(ero,cv2.RETR_EXTERNAL,cv2.CHAIN_APPROX_SIMPLE)\n",
    "\n",
    "    flag = False\n",
    "    for c in contours:\n",
    "        #print('Contour area: ',cv2.contourArea(c))\n",
    "        if( cv2.contourArea(c) > 100**2):\n",
    "            rect = cv2.boundingRect(c)\n",
    "            flag = True\n",
    "\n",
    "    if(not flag):\n",
    "        print('Bad Image : {0}, image removed'.format(path))\n",
    "        os.remove(path)\n",
    "        return 0\n",
    "    \n",
    "    x1 = rect[0]\n",
    "    y1= rect[1]\n",
    "    x2 = x1+rect[2]\n",
    "    y2 = y1+rect[3]\n",
    "    \n",
    "    #resizing image again to 256\n",
    "    img_f = image_resz_pad(resized[y1:y2,x1:x2], sz)\n",
    "    #img_fs = cv2.rectangle(img_f,(x1,y1),(x2,y2),(255,255,255),3)\n",
    "    cv2.imwrite(path,img_f) \n",
    "    return 1\n",
    "\n",
    "import tqdm\n",
    "\n",
    "def resize(PATH):\n",
    "    images = os.listdir(PATH);\n",
    "    pbar = tqdm.tqdm(images)\n",
    "    res = [find_eye(PATH + image) for image in pbar]\n",
    "    print('Total Images Sucess {0}'.format(sum(res)))\n",
    "\n"
   ]
  },
  {
   "cell_type": "markdown",
   "metadata": {},
   "source": [
    "#### Function for deleting blurry image, delete path to be supplied"
   ]
  },
  {
   "cell_type": "code",
   "execution_count": 7,
   "metadata": {},
   "outputs": [],
   "source": [
    "def remove_blur_images(BASE_DIR,to_delete):\n",
    "    for file in to_delete:\n",
    "        os.remove(BASE_DIR+file)"
   ]
  },
  {
   "cell_type": "markdown",
   "metadata": {},
   "source": [
    "### Data Augmentation\n",
    "#### 1. Contrast Enhancement - change the image intensity value distribution to cover a wide range\n",
    "\n",
    "#### 2. Log Enhancement - The dynamic range of an image can be compressed by replacing each pixel value with its logarithm. This      has the effect that low intensity pixel values are enhanced. Applying a pixel logarithm operator to an image can be useful in applications where the dynamic range may too large to be displayed on a screen (or to be recorded on a film in the first place)\n",
    "[2] R. Gonzalez and R. Woods Digital Image Processing, Addison-Wesley Publishing Company, 1992, pp 167 - 168.\n",
    "\n",
    "#### 3. Sigmoid Correction - Similar to contrast enhancement \n",
    "[3] Saruchi. “Adaptive Sigmoid Function to Enhance Low Contrast Images.” (2012)"
   ]
  },
  {
   "cell_type": "code",
   "execution_count": 8,
   "metadata": {},
   "outputs": [],
   "source": [
    "def data_aug_val(path):\n",
    "    listing_test = os.listdir(path)\n",
    "    for file_name in listing_test:\n",
    "            image = io.imread(path+file_name)\n",
    "            v_min, v_max = np.percentile(image, (0.2, 99.8))\n",
    "            better_contrast = exposure.rescale_intensity(image, in_range=(v_min, v_max))\n",
    "            log_correction_image = exposure.adjust_log(image)\n",
    "            sigmoid_correction_image = exposure.adjust_sigmoid(image)\n",
    "            horizontal_flip = image[:, ::-1]\n",
    "            #color_inversion_image_with_np = np.invert(image)\n",
    "            #adjusted_gamma_image = exposure.adjust_gamma(image, gamma=0.4, gain=0.9)\n",
    "            io.imsave(path+str(1)+file_name,better_contrast)\n",
    "            io.imsave(path+str(2)+file_name,log_correction_image)\n",
    "            io.imsave(path+str(3)+file_name,sigmoid_correction_image)"
   ]
  },
  {
   "cell_type": "code",
   "execution_count": 9,
   "metadata": {},
   "outputs": [],
   "source": [
    "#Function for removing excess image\n",
    "def remove_excess_images(PATH,number):\n",
    "    listing = os.listdir(PATH) \n",
    "    to_delete = random.sample(listing, number)\n",
    "    for file in to_delete:\n",
    "        os.remove(PATH+file)"
   ]
  },
  {
   "cell_type": "code",
   "execution_count": 10,
   "metadata": {},
   "outputs": [],
   "source": [
    "#Similar to data_aug_val but for testing purpose\n",
    "def data_aug_val_1(path):\n",
    "    listing_test = os.listdir(path)\n",
    "    for file_name in listing_test:\n",
    "            image = io.imread(path+file_name)\n",
    "            log_correction_image = exposure.adjust_log(image)\n",
    "            #color_inversion_image_with_np = np.invert(image)\n",
    "            #adjusted_gamma_image = exposure.adjust_gamma(image, gamma=0.4, gain=0.9)\n",
    "            #io.imsave(path+str(1)+file_name,better_contrast)\n",
    "            io.imsave(path+str(2)+file_name,log_correction_image)\n",
    "            #io.imsave(path+str(3)+file_name,sigmoid_correction_image)"
   ]
  },
  {
   "cell_type": "code",
   "execution_count": 11,
   "metadata": {
    "colab": {
     "base_uri": "https://localhost:8080/",
     "height": 364
    },
    "colab_type": "code",
    "id": "hxWseyy_k1Dj",
    "outputId": "7aa45ec7-2646-4e21-c843-9f5d2b47503f"
   },
   "outputs": [
    {
     "name": "stderr",
     "output_type": "stream",
     "text": [
      "  2%|█▉                                                                          | 642/25810 [03:53<2:27:49,  2.84it/s]"
     ]
    },
    {
     "name": "stdout",
     "output_type": "stream",
     "text": [
      "Bad Image : data/train/0/10996_left.jpeg, image removed\n"
     ]
    },
    {
     "name": "stderr",
     "output_type": "stream",
     "text": [
      " 12%|█████████                                                                  | 3098/25810 [15:08<1:01:51,  6.12it/s]"
     ]
    },
    {
     "name": "stdout",
     "output_type": "stream",
     "text": [
      "Bad Image : data/train/0/14836_left.jpeg, image removed\n"
     ]
    },
    {
     "name": "stderr",
     "output_type": "stream",
     "text": [
      " 13%|█████████▍                                                                 | 3250/25810 [15:36<1:15:30,  4.98it/s]"
     ]
    },
    {
     "name": "stdout",
     "output_type": "stream",
     "text": [
      "Bad Image : data/train/0/15045_left.jpeg, image removed\n"
     ]
    },
    {
     "name": "stderr",
     "output_type": "stream",
     "text": [
      " 13%|█████████▉                                                                 | 3431/25810 [16:06<1:02:20,  5.98it/s]"
     ]
    },
    {
     "name": "stdout",
     "output_type": "stream",
     "text": [
      "Bad Image : data/train/0/15324_left.jpeg, image removed\n"
     ]
    },
    {
     "name": "stderr",
     "output_type": "stream",
     "text": [
      " 14%|██████████▍                                                                | 3585/25810 [16:34<1:11:43,  5.16it/s]"
     ]
    },
    {
     "name": "stdout",
     "output_type": "stream",
     "text": [
      "Bad Image : data/train/0/1557_left.jpeg, image removed\n"
     ]
    },
    {
     "name": "stderr",
     "output_type": "stream",
     "text": [
      " 25%|███████████████████                                                          | 6379/25810 [24:44<54:03,  5.99it/s]"
     ]
    },
    {
     "name": "stdout",
     "output_type": "stream",
     "text": [
      "Bad Image : data/train/0/1986_left.jpeg, image removed\n"
     ]
    },
    {
     "name": "stderr",
     "output_type": "stream",
     "text": [
      " 28%|████████████████████▊                                                      | 7176/25810 [27:00<1:04:12,  4.84it/s]"
     ]
    },
    {
     "name": "stdout",
     "output_type": "stream",
     "text": [
      "Bad Image : data/train/0/21118_left.jpeg, image removed\n"
     ]
    },
    {
     "name": "stderr",
     "output_type": "stream",
     "text": [
      " 36%|███████████████████████████▎                                                 | 9164/25810 [32:29<50:22,  5.51it/s]"
     ]
    },
    {
     "name": "stdout",
     "output_type": "stream",
     "text": [
      "Bad Image : data/train/0/2425_left.jpeg, image removed\n"
     ]
    },
    {
     "name": "stderr",
     "output_type": "stream",
     "text": [
      " 37%|███████████████████████████▊                                               | 9590/25810 [33:41<1:11:22,  3.79it/s]"
     ]
    },
    {
     "name": "stdout",
     "output_type": "stream",
     "text": [
      "Bad Image : data/train/0/2491_right.jpeg, image removed\n"
     ]
    },
    {
     "name": "stderr",
     "output_type": "stream",
     "text": [
      " 38%|█████████████████████████████▏                                               | 9782/25810 [34:14<57:07,  4.68it/s]"
     ]
    },
    {
     "name": "stdout",
     "output_type": "stream",
     "text": [
      "Bad Image : data/train/0/2516_left.jpeg, image removed\n"
     ]
    },
    {
     "name": "stderr",
     "output_type": "stream",
     "text": [
      " 40%|██████████████████████████████▌                                             | 10370/25810 [35:54<48:38,  5.29it/s]"
     ]
    },
    {
     "name": "stdout",
     "output_type": "stream",
     "text": [
      "Bad Image : data/train/0/26064_left.jpeg, image removed\n",
      "Bad Image : data/train/0/26064_right.jpeg, image removed\n"
     ]
    },
    {
     "name": "stderr",
     "output_type": "stream",
     "text": [
      " 44%|█████████████████████████████████▎                                          | 11328/25810 [38:33<40:00,  6.03it/s]"
     ]
    },
    {
     "name": "stdout",
     "output_type": "stream",
     "text": [
      "Bad Image : data/train/0/27481_right.jpeg, image removed\n"
     ]
    },
    {
     "name": "stderr",
     "output_type": "stream",
     "text": [
      " 47%|███████████████████████████████████▍                                        | 12030/25810 [40:32<43:03,  5.33it/s]"
     ]
    },
    {
     "name": "stdout",
     "output_type": "stream",
     "text": [
      "Bad Image : data/train/0/2857_right.jpeg, image removed\n"
     ]
    },
    {
     "name": "stderr",
     "output_type": "stream",
     "text": [
      " 62%|██████████████████████████████████████████████▊                             | 15917/25810 [51:33<24:42,  6.67it/s]"
     ]
    },
    {
     "name": "stdout",
     "output_type": "stream",
     "text": [
      "Bad Image : data/train/0/34689_left.jpeg, image removed\n"
     ]
    },
    {
     "name": "stderr",
     "output_type": "stream",
     "text": [
      " 66%|██████████████████████████████████████████████████▏                         | 17039/25810 [54:40<20:27,  7.14it/s]"
     ]
    },
    {
     "name": "stdout",
     "output_type": "stream",
     "text": [
      "Bad Image : data/train/0/36425_left.jpeg, image removed\n"
     ]
    },
    {
     "name": "stderr",
     "output_type": "stream",
     "text": [
      " 78%|█████████████████████████████████████████████████████████▉                | 20197/25810 [1:03:30<16:37,  5.63it/s]"
     ]
    },
    {
     "name": "stdout",
     "output_type": "stream",
     "text": [
      "Bad Image : data/train/0/41176_left.jpeg, image removed\n"
     ]
    },
    {
     "name": "stderr",
     "output_type": "stream",
     "text": [
      " 81%|███████████████████████████████████████████████████████████▋              | 20814/25810 [1:05:14<13:13,  6.29it/s]"
     ]
    },
    {
     "name": "stdout",
     "output_type": "stream",
     "text": [
      "Bad Image : data/train/0/42130_left.jpeg, image removed\n"
     ]
    },
    {
     "name": "stderr",
     "output_type": "stream",
     "text": [
      " 89%|█████████████████████████████████████████████████████████████████▋        | 22915/25810 [1:11:18<07:11,  6.71it/s]"
     ]
    },
    {
     "name": "stdout",
     "output_type": "stream",
     "text": [
      "Bad Image : data/train/0/551_left.jpeg, image removed\n"
     ]
    },
    {
     "name": "stderr",
     "output_type": "stream",
     "text": [
      "100%|█████████████████████████████████████████████████████████████████████████▋| 25695/25810 [1:19:11<00:20,  5.73it/s]"
     ]
    },
    {
     "name": "stdout",
     "output_type": "stream",
     "text": [
      "Bad Image : data/train/0/9804_left.jpeg, image removed\n"
     ]
    },
    {
     "name": "stderr",
     "output_type": "stream",
     "text": [
      "100%|██████████████████████████████████████████████████████████████████████████| 25810/25810 [1:19:30<00:00,  5.41it/s]\n"
     ]
    },
    {
     "name": "stdout",
     "output_type": "stream",
     "text": [
      "Total Images Sucess 25790\n",
      "Wall time: 1h 19min 30s\n"
     ]
    },
    {
     "name": "stderr",
     "output_type": "stream",
     "text": [
      " 23%|█████████████████▊                                                             | 551/2443 [01:39<05:33,  5.67it/s]"
     ]
    },
    {
     "name": "stdout",
     "output_type": "stream",
     "text": [
      "Bad Image : data/train/1/18972_left.jpeg, image removed\n"
     ]
    },
    {
     "name": "stderr",
     "output_type": "stream",
     "text": [
      " 29%|███████████████████████▏                                                       | 717/2443 [02:08<06:02,  4.77it/s]"
     ]
    },
    {
     "name": "stdout",
     "output_type": "stream",
     "text": [
      "Bad Image : data/train/1/21720_left.jpeg, image removed\n"
     ]
    },
    {
     "name": "stderr",
     "output_type": "stream",
     "text": [
      " 46%|███████████████████████████████████▊                                          | 1123/2443 [03:17<02:40,  8.22it/s]"
     ]
    },
    {
     "name": "stdout",
     "output_type": "stream",
     "text": [
      "Bad Image : data/train/1/29020_left.jpeg, image removed\n"
     ]
    },
    {
     "name": "stderr",
     "output_type": "stream",
     "text": [
      " 54%|██████████████████████████████████████████▎                                   | 1327/2443 [03:45<02:58,  6.25it/s]"
     ]
    },
    {
     "name": "stdout",
     "output_type": "stream",
     "text": [
      "Bad Image : data/train/1/32253_right.jpeg, image removed\n"
     ]
    },
    {
     "name": "stderr",
     "output_type": "stream",
     "text": [
      " 82%|███████████████████████████████████████████████████████████████▊              | 1997/2443 [05:25<00:53,  8.36it/s]"
     ]
    },
    {
     "name": "stdout",
     "output_type": "stream",
     "text": [
      "Bad Image : data/train/1/43457_left.jpeg, image removed\n"
     ]
    },
    {
     "name": "stderr",
     "output_type": "stream",
     "text": [
      " 93%|████████████████████████████████████████████████████████████████████████▊     | 2279/2443 [06:07<00:34,  4.80it/s]"
     ]
    },
    {
     "name": "stdout",
     "output_type": "stream",
     "text": [
      "Bad Image : data/train/1/766_left.jpeg, image removed\n"
     ]
    },
    {
     "name": "stderr",
     "output_type": "stream",
     "text": [
      "100%|██████████████████████████████████████████████████████████████████████████████| 2443/2443 [06:31<00:00,  6.24it/s]\n"
     ]
    },
    {
     "name": "stdout",
     "output_type": "stream",
     "text": [
      "Total Images Sucess 2437\n",
      "Wall time: 6min 31s\n"
     ]
    },
    {
     "name": "stderr",
     "output_type": "stream",
     "text": [
      "  6%|████▊                                                                          | 321/5292 [00:54<14:03,  5.89it/s]"
     ]
    },
    {
     "name": "stdout",
     "output_type": "stream",
     "text": [
      "Bad Image : data/train/2/12329_right.jpeg, image removed\n"
     ]
    },
    {
     "name": "stderr",
     "output_type": "stream",
     "text": [
      " 10%|███████▌                                                                       | 506/5292 [01:23<16:30,  4.83it/s]"
     ]
    },
    {
     "name": "stdout",
     "output_type": "stream",
     "text": [
      "Bad Image : data/train/2/13627_left.jpeg, image removed\n"
     ]
    },
    {
     "name": "stderr",
     "output_type": "stream",
     "text": [
      " 13%|██████████                                                                     | 670/5292 [01:49<08:37,  8.94it/s]"
     ]
    },
    {
     "name": "stdout",
     "output_type": "stream",
     "text": [
      "Bad Image : data/train/2/14915_right.jpeg, image removed\n"
     ]
    },
    {
     "name": "stderr",
     "output_type": "stream",
     "text": [
      " 13%|██████████▌                                                                    | 709/5292 [01:54<11:03,  6.90it/s]"
     ]
    },
    {
     "name": "stdout",
     "output_type": "stream",
     "text": [
      "Bad Image : data/train/2/15222_left.jpeg, image removed\n"
     ]
    },
    {
     "name": "stderr",
     "output_type": "stream",
     "text": [
      " 28%|█████████████████████▌                                                        | 1465/5292 [03:46<09:48,  6.50it/s]"
     ]
    },
    {
     "name": "stdout",
     "output_type": "stream",
     "text": [
      "Bad Image : data/train/2/20824_right.jpeg, image removed\n"
     ]
    },
    {
     "name": "stderr",
     "output_type": "stream",
     "text": [
      " 53%|█████████████████████████████████████████                                     | 2782/5292 [07:10<08:22,  5.00it/s]"
     ]
    },
    {
     "name": "stdout",
     "output_type": "stream",
     "text": [
      "Bad Image : data/train/2/31160_left.jpeg, image removed\n"
     ]
    },
    {
     "name": "stderr",
     "output_type": "stream",
     "text": [
      " 70%|██████████████████████████████████████████████████████▊                       | 3723/5292 [09:35<03:42,  7.05it/s]"
     ]
    },
    {
     "name": "stdout",
     "output_type": "stream",
     "text": [
      "Bad Image : data/train/2/3829_left.jpeg, image removed\n"
     ]
    },
    {
     "name": "stderr",
     "output_type": "stream",
     "text": [
      " 84%|█████████████████████████████████████████████████████████████████▍            | 4440/5292 [11:30<02:38,  5.39it/s]"
     ]
    },
    {
     "name": "stdout",
     "output_type": "stream",
     "text": [
      "Bad Image : data/train/2/43921_left.jpeg, image removed\n"
     ]
    },
    {
     "name": "stderr",
     "output_type": "stream",
     "text": [
      " 98%|████████████████████████████████████████████████████████████████████████████▋ | 5207/5292 [13:30<00:13,  6.24it/s]"
     ]
    },
    {
     "name": "stdout",
     "output_type": "stream",
     "text": [
      "Bad Image : data/train/2/9590_left.jpeg, image removed\n"
     ]
    },
    {
     "name": "stderr",
     "output_type": "stream",
     "text": [
      "100%|██████████████████████████████████████████████████████████████████████████████| 5292/5292 [13:42<00:00,  6.43it/s]\n"
     ]
    },
    {
     "name": "stdout",
     "output_type": "stream",
     "text": [
      "Total Images Sucess 5283\n",
      "Wall time: 13min 42s\n"
     ]
    },
    {
     "name": "stderr",
     "output_type": "stream",
     "text": [
      " 39%|███████████████████████████████▏                                                | 341/873 [00:54<01:29,  5.94it/s]"
     ]
    },
    {
     "name": "stdout",
     "output_type": "stream",
     "text": [
      "Bad Image : data/train/3/25385_left.jpeg, image removed\n"
     ]
    },
    {
     "name": "stderr",
     "output_type": "stream",
     "text": [
      " 67%|█████████████████████████████████████████████████████▌                          | 584/873 [01:36<00:39,  7.37it/s]"
     ]
    },
    {
     "name": "stdout",
     "output_type": "stream",
     "text": [
      "Bad Image : data/train/3/3570_right.jpeg, image removed\n"
     ]
    },
    {
     "name": "stderr",
     "output_type": "stream",
     "text": [
      " 99%|███████████████████████████████████████████████████████████████████████████████ | 863/873 [02:22<00:01,  7.37it/s]"
     ]
    },
    {
     "name": "stdout",
     "output_type": "stream",
     "text": [
      "Bad Image : data/train/3/9590_right.jpeg, image removed\n"
     ]
    },
    {
     "name": "stderr",
     "output_type": "stream",
     "text": [
      "100%|████████████████████████████████████████████████████████████████████████████████| 873/873 [02:23<00:00,  6.07it/s]\n"
     ]
    },
    {
     "name": "stdout",
     "output_type": "stream",
     "text": [
      "Total Images Sucess 870\n",
      "Wall time: 2min 23s\n"
     ]
    },
    {
     "name": "stderr",
     "output_type": "stream",
     "text": [
      "100%|████████████████████████████████████████████████████████████████████████████████| 708/708 [01:55<00:00,  6.15it/s]\n"
     ]
    },
    {
     "name": "stdout",
     "output_type": "stream",
     "text": [
      "Total Images Sucess 708\n",
      "Wall time: 1min 55s\n"
     ]
    }
   ],
   "source": [
    "# Calling for image resize\n",
    "%time resize(\"data/train/0/\")\n",
    "%time resize(\"data/train/1/\")\n",
    "%time resize(\"data/train/2/\")\n",
    "%time resize(\"data/train/3/\")\n",
    "%time resize(\"data/train/4/\")"
   ]
  },
  {
   "cell_type": "markdown",
   "metadata": {},
   "source": [
    "#### Checking bluriiness of the images and dropping 10% of the total images as they are most blurred"
   ]
  },
  {
   "cell_type": "code",
   "execution_count": 12,
   "metadata": {
    "colab": {
     "base_uri": "https://localhost:8080/",
     "height": 86
    },
    "colab_type": "code",
    "id": "00qae61Rk3ZE",
    "outputId": "8cd928ec-3ceb-473f-8330-d127d89c186b"
   },
   "outputs": [
    {
     "name": "stdout",
     "output_type": "stream",
     "text": [
      "Wall time: 46.3 s\n"
     ]
    }
   ],
   "source": [
    "%time dict_sharp = blur_check(\"./data/train/0/\")"
   ]
  },
  {
   "cell_type": "code",
   "execution_count": 13,
   "metadata": {
    "colab": {},
    "colab_type": "code",
    "id": "i568cAPHlDlp"
   },
   "outputs": [],
   "source": [
    "#creating a dataframe of val and image name \n",
    "val_series = pd.Series(dict_sharp)\n",
    "df = pd.DataFrame(val_series,columns=[\"val\"])\n",
    "df.sort_values(by='val',inplace=True)\n",
    "df.reset_index(level=0, inplace=True)"
   ]
  },
  {
   "cell_type": "code",
   "execution_count": 14,
   "metadata": {
    "colab": {
     "base_uri": "https://localhost:8080/",
     "height": 363
    },
    "colab_type": "code",
    "id": "BsdYMeR9ymvC",
    "outputId": "d18805b9-e714-4e8e-fdbf-19d7e35f2a78"
   },
   "outputs": [
    {
     "data": {
      "text/html": [
       "<div>\n",
       "<style scoped>\n",
       "    .dataframe tbody tr th:only-of-type {\n",
       "        vertical-align: middle;\n",
       "    }\n",
       "\n",
       "    .dataframe tbody tr th {\n",
       "        vertical-align: top;\n",
       "    }\n",
       "\n",
       "    .dataframe thead th {\n",
       "        text-align: right;\n",
       "    }\n",
       "</style>\n",
       "<table border=\"1\" class=\"dataframe\">\n",
       "  <thead>\n",
       "    <tr style=\"text-align: right;\">\n",
       "      <th></th>\n",
       "      <th>index</th>\n",
       "      <th>val</th>\n",
       "    </tr>\n",
       "  </thead>\n",
       "  <tbody>\n",
       "    <tr>\n",
       "      <td>2990</td>\n",
       "      <td>18804_left.jpeg</td>\n",
       "      <td>84.106775</td>\n",
       "    </tr>\n",
       "    <tr>\n",
       "      <td>2991</td>\n",
       "      <td>24605_left.jpeg</td>\n",
       "      <td>84.137177</td>\n",
       "    </tr>\n",
       "    <tr>\n",
       "      <td>2992</td>\n",
       "      <td>22943_left.jpeg</td>\n",
       "      <td>84.141935</td>\n",
       "    </tr>\n",
       "    <tr>\n",
       "      <td>2993</td>\n",
       "      <td>6734_right.jpeg</td>\n",
       "      <td>84.142245</td>\n",
       "    </tr>\n",
       "    <tr>\n",
       "      <td>2994</td>\n",
       "      <td>38479_left.jpeg</td>\n",
       "      <td>84.150819</td>\n",
       "    </tr>\n",
       "    <tr>\n",
       "      <td>2995</td>\n",
       "      <td>2405_left.jpeg</td>\n",
       "      <td>84.178687</td>\n",
       "    </tr>\n",
       "    <tr>\n",
       "      <td>2996</td>\n",
       "      <td>43897_left.jpeg</td>\n",
       "      <td>84.205056</td>\n",
       "    </tr>\n",
       "    <tr>\n",
       "      <td>2997</td>\n",
       "      <td>9643_right.jpeg</td>\n",
       "      <td>84.224295</td>\n",
       "    </tr>\n",
       "    <tr>\n",
       "      <td>2998</td>\n",
       "      <td>43227_right.jpeg</td>\n",
       "      <td>84.225255</td>\n",
       "    </tr>\n",
       "    <tr>\n",
       "      <td>2999</td>\n",
       "      <td>28798_right.jpeg</td>\n",
       "      <td>84.239110</td>\n",
       "    </tr>\n",
       "  </tbody>\n",
       "</table>\n",
       "</div>"
      ],
      "text/plain": [
       "                 index        val\n",
       "2990   18804_left.jpeg  84.106775\n",
       "2991   24605_left.jpeg  84.137177\n",
       "2992   22943_left.jpeg  84.141935\n",
       "2993   6734_right.jpeg  84.142245\n",
       "2994   38479_left.jpeg  84.150819\n",
       "2995    2405_left.jpeg  84.178687\n",
       "2996   43897_left.jpeg  84.205056\n",
       "2997   9643_right.jpeg  84.224295\n",
       "2998  43227_right.jpeg  84.225255\n",
       "2999  28798_right.jpeg  84.239110"
      ]
     },
     "execution_count": 14,
     "metadata": {},
     "output_type": "execute_result"
    }
   ],
   "source": [
    "df.head(3000).tail(10)"
   ]
  },
  {
   "cell_type": "code",
   "execution_count": 15,
   "metadata": {
    "colab": {
     "base_uri": "https://localhost:8080/",
     "height": 269
    },
    "colab_type": "code",
    "collapsed": true,
    "id": "jKYWb4EuknVQ",
    "outputId": "eba6f056-9bdb-48b4-8f95-7e887071c6ec"
   },
   "outputs": [
    {
     "ename": "TypeError",
     "evalue": "Image data of dtype object cannot be converted to float",
     "output_type": "error",
     "traceback": [
      "\u001b[1;31m---------------------------------------------------------------------------\u001b[0m",
      "\u001b[1;31mTypeError\u001b[0m                                 Traceback (most recent call last)",
      "\u001b[1;32m<ipython-input-15-54a895e55b0c>\u001b[0m in \u001b[0;36m<module>\u001b[1;34m\u001b[0m\n\u001b[0;32m      1\u001b[0m \u001b[1;31m#checking the image having the lowest val\u001b[0m\u001b[1;33m\u001b[0m\u001b[1;33m\u001b[0m\u001b[1;33m\u001b[0m\u001b[0m\n\u001b[0;32m      2\u001b[0m \u001b[0mimage\u001b[0m \u001b[1;33m=\u001b[0m \u001b[0mcv2\u001b[0m\u001b[1;33m.\u001b[0m\u001b[0mimread\u001b[0m\u001b[1;33m(\u001b[0m\u001b[1;34m\"./data/train/0/27481_right.jpeg\"\u001b[0m\u001b[1;33m)\u001b[0m\u001b[1;33m\u001b[0m\u001b[1;33m\u001b[0m\u001b[0m\n\u001b[1;32m----> 3\u001b[1;33m \u001b[0mplt\u001b[0m\u001b[1;33m.\u001b[0m\u001b[0mimshow\u001b[0m\u001b[1;33m(\u001b[0m\u001b[0mimage\u001b[0m\u001b[1;33m)\u001b[0m\u001b[1;33m;\u001b[0m\u001b[1;33m\u001b[0m\u001b[1;33m\u001b[0m\u001b[0m\n\u001b[0m\u001b[0;32m      4\u001b[0m \u001b[0mplt\u001b[0m\u001b[1;33m.\u001b[0m\u001b[0mshow\u001b[0m\u001b[1;33m(\u001b[0m\u001b[1;33m)\u001b[0m\u001b[1;33m\u001b[0m\u001b[1;33m\u001b[0m\u001b[0m\n",
      "\u001b[1;32m~\\AppData\\Local\\Continuum\\anaconda3\\lib\\site-packages\\matplotlib\\pyplot.py\u001b[0m in \u001b[0;36mimshow\u001b[1;34m(X, cmap, norm, aspect, interpolation, alpha, vmin, vmax, origin, extent, shape, filternorm, filterrad, imlim, resample, url, data, **kwargs)\u001b[0m\n\u001b[0;32m   2681\u001b[0m         \u001b[0mfilternorm\u001b[0m\u001b[1;33m=\u001b[0m\u001b[0mfilternorm\u001b[0m\u001b[1;33m,\u001b[0m \u001b[0mfilterrad\u001b[0m\u001b[1;33m=\u001b[0m\u001b[0mfilterrad\u001b[0m\u001b[1;33m,\u001b[0m \u001b[0mimlim\u001b[0m\u001b[1;33m=\u001b[0m\u001b[0mimlim\u001b[0m\u001b[1;33m,\u001b[0m\u001b[1;33m\u001b[0m\u001b[1;33m\u001b[0m\u001b[0m\n\u001b[0;32m   2682\u001b[0m         resample=resample, url=url, **({\"data\": data} if data is not\n\u001b[1;32m-> 2683\u001b[1;33m         None else {}), **kwargs)\n\u001b[0m\u001b[0;32m   2684\u001b[0m     \u001b[0msci\u001b[0m\u001b[1;33m(\u001b[0m\u001b[0m__ret\u001b[0m\u001b[1;33m)\u001b[0m\u001b[1;33m\u001b[0m\u001b[1;33m\u001b[0m\u001b[0m\n\u001b[0;32m   2685\u001b[0m     \u001b[1;32mreturn\u001b[0m \u001b[0m__ret\u001b[0m\u001b[1;33m\u001b[0m\u001b[1;33m\u001b[0m\u001b[0m\n",
      "\u001b[1;32m~\\AppData\\Local\\Continuum\\anaconda3\\lib\\site-packages\\matplotlib\\__init__.py\u001b[0m in \u001b[0;36minner\u001b[1;34m(ax, data, *args, **kwargs)\u001b[0m\n\u001b[0;32m   1599\u001b[0m     \u001b[1;32mdef\u001b[0m \u001b[0minner\u001b[0m\u001b[1;33m(\u001b[0m\u001b[0max\u001b[0m\u001b[1;33m,\u001b[0m \u001b[1;33m*\u001b[0m\u001b[0margs\u001b[0m\u001b[1;33m,\u001b[0m \u001b[0mdata\u001b[0m\u001b[1;33m=\u001b[0m\u001b[1;32mNone\u001b[0m\u001b[1;33m,\u001b[0m \u001b[1;33m**\u001b[0m\u001b[0mkwargs\u001b[0m\u001b[1;33m)\u001b[0m\u001b[1;33m:\u001b[0m\u001b[1;33m\u001b[0m\u001b[1;33m\u001b[0m\u001b[0m\n\u001b[0;32m   1600\u001b[0m         \u001b[1;32mif\u001b[0m \u001b[0mdata\u001b[0m \u001b[1;32mis\u001b[0m \u001b[1;32mNone\u001b[0m\u001b[1;33m:\u001b[0m\u001b[1;33m\u001b[0m\u001b[1;33m\u001b[0m\u001b[0m\n\u001b[1;32m-> 1601\u001b[1;33m             \u001b[1;32mreturn\u001b[0m \u001b[0mfunc\u001b[0m\u001b[1;33m(\u001b[0m\u001b[0max\u001b[0m\u001b[1;33m,\u001b[0m \u001b[1;33m*\u001b[0m\u001b[0mmap\u001b[0m\u001b[1;33m(\u001b[0m\u001b[0msanitize_sequence\u001b[0m\u001b[1;33m,\u001b[0m \u001b[0margs\u001b[0m\u001b[1;33m)\u001b[0m\u001b[1;33m,\u001b[0m \u001b[1;33m**\u001b[0m\u001b[0mkwargs\u001b[0m\u001b[1;33m)\u001b[0m\u001b[1;33m\u001b[0m\u001b[1;33m\u001b[0m\u001b[0m\n\u001b[0m\u001b[0;32m   1602\u001b[0m \u001b[1;33m\u001b[0m\u001b[0m\n\u001b[0;32m   1603\u001b[0m         \u001b[0mbound\u001b[0m \u001b[1;33m=\u001b[0m \u001b[0mnew_sig\u001b[0m\u001b[1;33m.\u001b[0m\u001b[0mbind\u001b[0m\u001b[1;33m(\u001b[0m\u001b[0max\u001b[0m\u001b[1;33m,\u001b[0m \u001b[1;33m*\u001b[0m\u001b[0margs\u001b[0m\u001b[1;33m,\u001b[0m \u001b[1;33m**\u001b[0m\u001b[0mkwargs\u001b[0m\u001b[1;33m)\u001b[0m\u001b[1;33m\u001b[0m\u001b[1;33m\u001b[0m\u001b[0m\n",
      "\u001b[1;32m~\\AppData\\Local\\Continuum\\anaconda3\\lib\\site-packages\\matplotlib\\cbook\\deprecation.py\u001b[0m in \u001b[0;36mwrapper\u001b[1;34m(*args, **kwargs)\u001b[0m\n\u001b[0;32m    367\u001b[0m                 \u001b[1;34mf\"%(removal)s.  If any parameter follows {name!r}, they \"\u001b[0m\u001b[1;33m\u001b[0m\u001b[1;33m\u001b[0m\u001b[0m\n\u001b[0;32m    368\u001b[0m                 f\"should be pass as keyword, not positionally.\")\n\u001b[1;32m--> 369\u001b[1;33m         \u001b[1;32mreturn\u001b[0m \u001b[0mfunc\u001b[0m\u001b[1;33m(\u001b[0m\u001b[1;33m*\u001b[0m\u001b[0margs\u001b[0m\u001b[1;33m,\u001b[0m \u001b[1;33m**\u001b[0m\u001b[0mkwargs\u001b[0m\u001b[1;33m)\u001b[0m\u001b[1;33m\u001b[0m\u001b[1;33m\u001b[0m\u001b[0m\n\u001b[0m\u001b[0;32m    370\u001b[0m \u001b[1;33m\u001b[0m\u001b[0m\n\u001b[0;32m    371\u001b[0m     \u001b[1;32mreturn\u001b[0m \u001b[0mwrapper\u001b[0m\u001b[1;33m\u001b[0m\u001b[1;33m\u001b[0m\u001b[0m\n",
      "\u001b[1;32m~\\AppData\\Local\\Continuum\\anaconda3\\lib\\site-packages\\matplotlib\\cbook\\deprecation.py\u001b[0m in \u001b[0;36mwrapper\u001b[1;34m(*args, **kwargs)\u001b[0m\n\u001b[0;32m    367\u001b[0m                 \u001b[1;34mf\"%(removal)s.  If any parameter follows {name!r}, they \"\u001b[0m\u001b[1;33m\u001b[0m\u001b[1;33m\u001b[0m\u001b[0m\n\u001b[0;32m    368\u001b[0m                 f\"should be pass as keyword, not positionally.\")\n\u001b[1;32m--> 369\u001b[1;33m         \u001b[1;32mreturn\u001b[0m \u001b[0mfunc\u001b[0m\u001b[1;33m(\u001b[0m\u001b[1;33m*\u001b[0m\u001b[0margs\u001b[0m\u001b[1;33m,\u001b[0m \u001b[1;33m**\u001b[0m\u001b[0mkwargs\u001b[0m\u001b[1;33m)\u001b[0m\u001b[1;33m\u001b[0m\u001b[1;33m\u001b[0m\u001b[0m\n\u001b[0m\u001b[0;32m    370\u001b[0m \u001b[1;33m\u001b[0m\u001b[0m\n\u001b[0;32m    371\u001b[0m     \u001b[1;32mreturn\u001b[0m \u001b[0mwrapper\u001b[0m\u001b[1;33m\u001b[0m\u001b[1;33m\u001b[0m\u001b[0m\n",
      "\u001b[1;32m~\\AppData\\Local\\Continuum\\anaconda3\\lib\\site-packages\\matplotlib\\axes\\_axes.py\u001b[0m in \u001b[0;36mimshow\u001b[1;34m(self, X, cmap, norm, aspect, interpolation, alpha, vmin, vmax, origin, extent, shape, filternorm, filterrad, imlim, resample, url, **kwargs)\u001b[0m\n\u001b[0;32m   5669\u001b[0m                               resample=resample, **kwargs)\n\u001b[0;32m   5670\u001b[0m \u001b[1;33m\u001b[0m\u001b[0m\n\u001b[1;32m-> 5671\u001b[1;33m         \u001b[0mim\u001b[0m\u001b[1;33m.\u001b[0m\u001b[0mset_data\u001b[0m\u001b[1;33m(\u001b[0m\u001b[0mX\u001b[0m\u001b[1;33m)\u001b[0m\u001b[1;33m\u001b[0m\u001b[1;33m\u001b[0m\u001b[0m\n\u001b[0m\u001b[0;32m   5672\u001b[0m         \u001b[0mim\u001b[0m\u001b[1;33m.\u001b[0m\u001b[0mset_alpha\u001b[0m\u001b[1;33m(\u001b[0m\u001b[0malpha\u001b[0m\u001b[1;33m)\u001b[0m\u001b[1;33m\u001b[0m\u001b[1;33m\u001b[0m\u001b[0m\n\u001b[0;32m   5673\u001b[0m         \u001b[1;32mif\u001b[0m \u001b[0mim\u001b[0m\u001b[1;33m.\u001b[0m\u001b[0mget_clip_path\u001b[0m\u001b[1;33m(\u001b[0m\u001b[1;33m)\u001b[0m \u001b[1;32mis\u001b[0m \u001b[1;32mNone\u001b[0m\u001b[1;33m:\u001b[0m\u001b[1;33m\u001b[0m\u001b[1;33m\u001b[0m\u001b[0m\n",
      "\u001b[1;32m~\\AppData\\Local\\Continuum\\anaconda3\\lib\\site-packages\\matplotlib\\image.py\u001b[0m in \u001b[0;36mset_data\u001b[1;34m(self, A)\u001b[0m\n\u001b[0;32m    683\u001b[0m                 not np.can_cast(self._A.dtype, float, \"same_kind\")):\n\u001b[0;32m    684\u001b[0m             raise TypeError(\"Image data of dtype {} cannot be converted to \"\n\u001b[1;32m--> 685\u001b[1;33m                             \"float\".format(self._A.dtype))\n\u001b[0m\u001b[0;32m    686\u001b[0m \u001b[1;33m\u001b[0m\u001b[0m\n\u001b[0;32m    687\u001b[0m         if not (self._A.ndim == 2\n",
      "\u001b[1;31mTypeError\u001b[0m: Image data of dtype object cannot be converted to float"
     ]
    },
    {
     "data": {
      "image/png": "[encoded data removed]",
      "text/plain": [
       "<Figure size 432x288 with 1 Axes>"
      ]
     },
     "metadata": {
      "needs_background": "light"
     },
     "output_type": "display_data"
    }
   ],
   "source": [
    "#checking the image having the lowest val\n",
    "image = cv2.imread(\"./data/train/0/27481_right.jpeg\")\n",
    "plt.imshow(image);\n",
    "plt.show()"
   ]
  },
  {
   "cell_type": "code",
   "execution_count": 16,
   "metadata": {
    "colab": {},
    "colab_type": "code",
    "id": "fyrjJz_4z1Fz"
   },
   "outputs": [],
   "source": [
    "to_delete = df[\"index\"].head(3000).tolist()\n",
    "remove_blur_images(\"./data/train/0/\",to_delete)"
   ]
  },
  {
   "cell_type": "markdown",
   "metadata": {},
   "source": [
    "#### Dropped blurred images from class 0"
   ]
  },
  {
   "cell_type": "code",
   "execution_count": 0,
   "metadata": {
    "colab": {
     "base_uri": "https://localhost:8080/",
     "height": 34
    },
    "colab_type": "code",
    "id": "7Wvv3Fqm1d1z",
    "outputId": "0eba2b61-98f5-4277-810a-f24d638e9635"
   },
   "outputs": [
    {
     "name": "stdout",
     "output_type": "stream",
     "text": [
      "22810\n"
     ]
    }
   ],
   "source": [
    "!ls tmp/train/0 | wc -l"
   ]
  },
  {
   "cell_type": "code",
   "execution_count": 17,
   "metadata": {
    "colab": {
     "base_uri": "https://localhost:8080/",
     "height": 52
    },
    "colab_type": "code",
    "id": "dqnlrml01pQe",
    "outputId": "dc7f9a5e-9571-4c62-bcd3-4a9a9a443f3d"
   },
   "outputs": [
    {
     "name": "stdout",
     "output_type": "stream",
     "text": [
      "Wall time: 4.12 s\n"
     ]
    }
   ],
   "source": [
    "%time dict_sharp = blur_check(\"./data/train/1/\")\n",
    "frame = pd.Series(dict_sharp)\n",
    "df = pd.DataFrame(frame,columns=[\"val\"])\n",
    "df.sort_values(by='val',inplace=True)\n",
    "df.reset_index(level=0, inplace=True)"
   ]
  },
  {
   "cell_type": "code",
   "execution_count": 18,
   "metadata": {
    "colab": {
     "base_uri": "https://localhost:8080/",
     "height": 206
    },
    "colab_type": "code",
    "id": "PwFoKIyV2JY7",
    "outputId": "7f5e760b-aab2-4610-e96d-81ab3a5d13ae"
   },
   "outputs": [
    {
     "data": {
      "text/html": [
       "<div>\n",
       "<style scoped>\n",
       "    .dataframe tbody tr th:only-of-type {\n",
       "        vertical-align: middle;\n",
       "    }\n",
       "\n",
       "    .dataframe tbody tr th {\n",
       "        vertical-align: top;\n",
       "    }\n",
       "\n",
       "    .dataframe thead th {\n",
       "        text-align: right;\n",
       "    }\n",
       "</style>\n",
       "<table border=\"1\" class=\"dataframe\">\n",
       "  <thead>\n",
       "    <tr style=\"text-align: right;\">\n",
       "      <th></th>\n",
       "      <th>index</th>\n",
       "      <th>val</th>\n",
       "    </tr>\n",
       "  </thead>\n",
       "  <tbody>\n",
       "    <tr>\n",
       "      <td>95</td>\n",
       "      <td>7886_left.jpeg</td>\n",
       "      <td>57.366545</td>\n",
       "    </tr>\n",
       "    <tr>\n",
       "      <td>96</td>\n",
       "      <td>25390_right.jpeg</td>\n",
       "      <td>57.429781</td>\n",
       "    </tr>\n",
       "    <tr>\n",
       "      <td>97</td>\n",
       "      <td>12577_right.jpeg</td>\n",
       "      <td>58.183764</td>\n",
       "    </tr>\n",
       "    <tr>\n",
       "      <td>98</td>\n",
       "      <td>10426_left.jpeg</td>\n",
       "      <td>58.477011</td>\n",
       "    </tr>\n",
       "    <tr>\n",
       "      <td>99</td>\n",
       "      <td>26433_right.jpeg</td>\n",
       "      <td>58.654780</td>\n",
       "    </tr>\n",
       "  </tbody>\n",
       "</table>\n",
       "</div>"
      ],
      "text/plain": [
       "               index        val\n",
       "95    7886_left.jpeg  57.366545\n",
       "96  25390_right.jpeg  57.429781\n",
       "97  12577_right.jpeg  58.183764\n",
       "98   10426_left.jpeg  58.477011\n",
       "99  26433_right.jpeg  58.654780"
      ]
     },
     "execution_count": 18,
     "metadata": {},
     "output_type": "execute_result"
    }
   ],
   "source": [
    "df.head(100).tail()"
   ]
  },
  {
   "cell_type": "code",
   "execution_count": 19,
   "metadata": {
    "colab": {},
    "colab_type": "code",
    "id": "-zyBCI5v3HBv"
   },
   "outputs": [],
   "source": [
    "to_delete = df[\"index\"].head(100).tolist()\n",
    "remove_blur_images(\"./data/train/1/\",to_delete)"
   ]
  },
  {
   "cell_type": "code",
   "execution_count": 0,
   "metadata": {
    "colab": {
     "base_uri": "https://localhost:8080/",
     "height": 34
    },
    "colab_type": "code",
    "id": "_vyv_bNV3Kfw",
    "outputId": "6663e52e-0e84-4fd8-9404-d15f3851eb59"
   },
   "outputs": [
    {
     "name": "stdout",
     "output_type": "stream",
     "text": [
      "2343\n"
     ]
    }
   ],
   "source": [
    "!ls tmp/train/1 | wc -l"
   ]
  },
  {
   "cell_type": "code",
   "execution_count": 20,
   "metadata": {
    "colab": {
     "base_uri": "https://localhost:8080/",
     "height": 52
    },
    "colab_type": "code",
    "id": "QOrLZKTU3OBJ",
    "outputId": "cff6fd4f-6346-4ac1-a388-3e987b242f0e"
   },
   "outputs": [
    {
     "name": "stdout",
     "output_type": "stream",
     "text": [
      "Wall time: 9.26 s\n"
     ]
    }
   ],
   "source": [
    "%time dict_sharp = blur_check(\"./data/train/2/\")\n",
    "frame = pd.Series(dict_sharp)\n",
    "df = pd.DataFrame(frame,columns=[\"val\"])\n",
    "df.sort_values(by='val',inplace=True)\n",
    "df.reset_index(level=0, inplace=True)"
   ]
  },
  {
   "cell_type": "code",
   "execution_count": 21,
   "metadata": {
    "colab": {
     "base_uri": "https://localhost:8080/",
     "height": 206
    },
    "colab_type": "code",
    "id": "W-Oe_4Fj3SYU",
    "outputId": "697d2b1d-de0d-4c2e-e986-e641125b95d1"
   },
   "outputs": [
    {
     "data": {
      "text/html": [
       "<div>\n",
       "<style scoped>\n",
       "    .dataframe tbody tr th:only-of-type {\n",
       "        vertical-align: middle;\n",
       "    }\n",
       "\n",
       "    .dataframe tbody tr th {\n",
       "        vertical-align: top;\n",
       "    }\n",
       "\n",
       "    .dataframe thead th {\n",
       "        text-align: right;\n",
       "    }\n",
       "</style>\n",
       "<table border=\"1\" class=\"dataframe\">\n",
       "  <thead>\n",
       "    <tr style=\"text-align: right;\">\n",
       "      <th></th>\n",
       "      <th>index</th>\n",
       "      <th>val</th>\n",
       "    </tr>\n",
       "  </thead>\n",
       "  <tbody>\n",
       "    <tr>\n",
       "      <td>245</td>\n",
       "      <td>12111_right.jpeg</td>\n",
       "      <td>44.562877</td>\n",
       "    </tr>\n",
       "    <tr>\n",
       "      <td>246</td>\n",
       "      <td>21964_left.jpeg</td>\n",
       "      <td>44.585093</td>\n",
       "    </tr>\n",
       "    <tr>\n",
       "      <td>247</td>\n",
       "      <td>23121_left.jpeg</td>\n",
       "      <td>44.729716</td>\n",
       "    </tr>\n",
       "    <tr>\n",
       "      <td>248</td>\n",
       "      <td>42953_right.jpeg</td>\n",
       "      <td>44.770218</td>\n",
       "    </tr>\n",
       "    <tr>\n",
       "      <td>249</td>\n",
       "      <td>9011_left.jpeg</td>\n",
       "      <td>44.840402</td>\n",
       "    </tr>\n",
       "  </tbody>\n",
       "</table>\n",
       "</div>"
      ],
      "text/plain": [
       "                index        val\n",
       "245  12111_right.jpeg  44.562877\n",
       "246   21964_left.jpeg  44.585093\n",
       "247   23121_left.jpeg  44.729716\n",
       "248  42953_right.jpeg  44.770218\n",
       "249    9011_left.jpeg  44.840402"
      ]
     },
     "execution_count": 21,
     "metadata": {},
     "output_type": "execute_result"
    }
   ],
   "source": [
    "df.head(250).tail()"
   ]
  },
  {
   "cell_type": "code",
   "execution_count": 22,
   "metadata": {
    "colab": {},
    "colab_type": "code",
    "id": "rQh-WC9Z3XBU"
   },
   "outputs": [],
   "source": [
    "to_delete = df[\"index\"].head(250).tolist()\n",
    "remove_blur_images(\"./data/train/2/\",to_delete)"
   ]
  },
  {
   "cell_type": "code",
   "execution_count": 23,
   "metadata": {
    "colab": {
     "base_uri": "https://localhost:8080/",
     "height": 52
    },
    "colab_type": "code",
    "id": "0M0WHf5I3XIw",
    "outputId": "dcb55ce9-804f-4608-e9f0-f178341a97b3"
   },
   "outputs": [
    {
     "name": "stdout",
     "output_type": "stream",
     "text": [
      "Wall time: 1.85 s\n"
     ]
    }
   ],
   "source": [
    "%time dict_sharp = blur_check(\"./data/train/3/\")"
   ]
  },
  {
   "cell_type": "code",
   "execution_count": 24,
   "metadata": {
    "colab": {},
    "colab_type": "code",
    "id": "jYYyo2O03XF5"
   },
   "outputs": [],
   "source": [
    "frame = pd.Series(dict_sharp)\n",
    "df = pd.DataFrame(frame,columns=[\"val\"])\n",
    "df.sort_values(by='val',inplace=True)\n",
    "df.reset_index(level=0, inplace=True)"
   ]
  },
  {
   "cell_type": "code",
   "execution_count": 25,
   "metadata": {
    "colab": {
     "base_uri": "https://localhost:8080/",
     "height": 206
    },
    "colab_type": "code",
    "id": "Fs77DNAv3Ywk",
    "outputId": "0276d41b-589b-4bcb-ac3a-3c4d9b0fe319"
   },
   "outputs": [
    {
     "data": {
      "text/html": [
       "<div>\n",
       "<style scoped>\n",
       "    .dataframe tbody tr th:only-of-type {\n",
       "        vertical-align: middle;\n",
       "    }\n",
       "\n",
       "    .dataframe tbody tr th {\n",
       "        vertical-align: top;\n",
       "    }\n",
       "\n",
       "    .dataframe thead th {\n",
       "        text-align: right;\n",
       "    }\n",
       "</style>\n",
       "<table border=\"1\" class=\"dataframe\">\n",
       "  <thead>\n",
       "    <tr style=\"text-align: right;\">\n",
       "      <th></th>\n",
       "      <th>index</th>\n",
       "      <th>val</th>\n",
       "    </tr>\n",
       "  </thead>\n",
       "  <tbody>\n",
       "    <tr>\n",
       "      <td>35</td>\n",
       "      <td>11196_right.jpeg</td>\n",
       "      <td>33.204158</td>\n",
       "    </tr>\n",
       "    <tr>\n",
       "      <td>36</td>\n",
       "      <td>23803_left.jpeg</td>\n",
       "      <td>34.654119</td>\n",
       "    </tr>\n",
       "    <tr>\n",
       "      <td>37</td>\n",
       "      <td>40341_right.jpeg</td>\n",
       "      <td>37.324810</td>\n",
       "    </tr>\n",
       "    <tr>\n",
       "      <td>38</td>\n",
       "      <td>21746_right.jpeg</td>\n",
       "      <td>37.563384</td>\n",
       "    </tr>\n",
       "    <tr>\n",
       "      <td>39</td>\n",
       "      <td>30226_right.jpeg</td>\n",
       "      <td>42.184571</td>\n",
       "    </tr>\n",
       "  </tbody>\n",
       "</table>\n",
       "</div>"
      ],
      "text/plain": [
       "               index        val\n",
       "35  11196_right.jpeg  33.204158\n",
       "36   23803_left.jpeg  34.654119\n",
       "37  40341_right.jpeg  37.324810\n",
       "38  21746_right.jpeg  37.563384\n",
       "39  30226_right.jpeg  42.184571"
      ]
     },
     "execution_count": 25,
     "metadata": {},
     "output_type": "execute_result"
    }
   ],
   "source": [
    "df.head(40).tail()"
   ]
  },
  {
   "cell_type": "code",
   "execution_count": 26,
   "metadata": {
    "colab": {},
    "colab_type": "code",
    "id": "CWv66s-c4Eng"
   },
   "outputs": [],
   "source": [
    "to_delete = df[\"index\"].head(40).tolist()\n",
    "remove_blur_images(\"./data/train/3/\",to_delete)"
   ]
  },
  {
   "cell_type": "code",
   "execution_count": 27,
   "metadata": {
    "colab": {
     "base_uri": "https://localhost:8080/",
     "height": 52
    },
    "colab_type": "code",
    "id": "Qh8ADIFe3Yss",
    "outputId": "1ee08570-ce7c-4d4f-e807-2800210b2e85"
   },
   "outputs": [
    {
     "name": "stdout",
     "output_type": "stream",
     "text": [
      "Wall time: 1.2 s\n"
     ]
    }
   ],
   "source": [
    "%time dict_sharp = blur_check(\"./data/train/4/\")"
   ]
  },
  {
   "cell_type": "code",
   "execution_count": 28,
   "metadata": {
    "colab": {},
    "colab_type": "code",
    "id": "ror4eogp3aLU"
   },
   "outputs": [],
   "source": [
    "frame = pd.Series(dict_sharp)\n",
    "df = pd.DataFrame(frame,columns=[\"val\"])\n",
    "df.sort_values(by='val',inplace=True)\n",
    "df.reset_index(level=0, inplace=True)"
   ]
  },
  {
   "cell_type": "code",
   "execution_count": 29,
   "metadata": {
    "colab": {
     "base_uri": "https://localhost:8080/",
     "height": 990
    },
    "colab_type": "code",
    "id": "06sCV8pl3aR9",
    "outputId": "4a4029ef-1740-415c-d748-b1522f0ab338"
   },
   "outputs": [
    {
     "data": {
      "text/html": [
       "<div>\n",
       "<style scoped>\n",
       "    .dataframe tbody tr th:only-of-type {\n",
       "        vertical-align: middle;\n",
       "    }\n",
       "\n",
       "    .dataframe tbody tr th {\n",
       "        vertical-align: top;\n",
       "    }\n",
       "\n",
       "    .dataframe thead th {\n",
       "        text-align: right;\n",
       "    }\n",
       "</style>\n",
       "<table border=\"1\" class=\"dataframe\">\n",
       "  <thead>\n",
       "    <tr style=\"text-align: right;\">\n",
       "      <th></th>\n",
       "      <th>index</th>\n",
       "      <th>val</th>\n",
       "    </tr>\n",
       "  </thead>\n",
       "  <tbody>\n",
       "    <tr>\n",
       "      <td>0</td>\n",
       "      <td>30723_left.jpeg</td>\n",
       "      <td>5.013091</td>\n",
       "    </tr>\n",
       "    <tr>\n",
       "      <td>1</td>\n",
       "      <td>40178_left.jpeg</td>\n",
       "      <td>7.339136</td>\n",
       "    </tr>\n",
       "    <tr>\n",
       "      <td>2</td>\n",
       "      <td>30675_left.jpeg</td>\n",
       "      <td>11.905828</td>\n",
       "    </tr>\n",
       "    <tr>\n",
       "      <td>3</td>\n",
       "      <td>31659_right.jpeg</td>\n",
       "      <td>13.496241</td>\n",
       "    </tr>\n",
       "    <tr>\n",
       "      <td>4</td>\n",
       "      <td>21788_right.jpeg</td>\n",
       "      <td>13.531731</td>\n",
       "    </tr>\n",
       "    <tr>\n",
       "      <td>5</td>\n",
       "      <td>24472_right.jpeg</td>\n",
       "      <td>14.615163</td>\n",
       "    </tr>\n",
       "    <tr>\n",
       "      <td>6</td>\n",
       "      <td>5258_right.jpeg</td>\n",
       "      <td>15.521148</td>\n",
       "    </tr>\n",
       "    <tr>\n",
       "      <td>7</td>\n",
       "      <td>21788_left.jpeg</td>\n",
       "      <td>16.233466</td>\n",
       "    </tr>\n",
       "    <tr>\n",
       "      <td>8</td>\n",
       "      <td>17411_right.jpeg</td>\n",
       "      <td>16.593806</td>\n",
       "    </tr>\n",
       "    <tr>\n",
       "      <td>9</td>\n",
       "      <td>5258_left.jpeg</td>\n",
       "      <td>16.656767</td>\n",
       "    </tr>\n",
       "    <tr>\n",
       "      <td>10</td>\n",
       "      <td>40183_left.jpeg</td>\n",
       "      <td>18.027307</td>\n",
       "    </tr>\n",
       "    <tr>\n",
       "      <td>11</td>\n",
       "      <td>32230_right.jpeg</td>\n",
       "      <td>18.283418</td>\n",
       "    </tr>\n",
       "    <tr>\n",
       "      <td>12</td>\n",
       "      <td>15038_right.jpeg</td>\n",
       "      <td>18.367996</td>\n",
       "    </tr>\n",
       "    <tr>\n",
       "      <td>13</td>\n",
       "      <td>41852_right.jpeg</td>\n",
       "      <td>20.235759</td>\n",
       "    </tr>\n",
       "    <tr>\n",
       "      <td>14</td>\n",
       "      <td>15459_left.jpeg</td>\n",
       "      <td>22.791994</td>\n",
       "    </tr>\n",
       "    <tr>\n",
       "      <td>15</td>\n",
       "      <td>9353_right.jpeg</td>\n",
       "      <td>23.849952</td>\n",
       "    </tr>\n",
       "    <tr>\n",
       "      <td>16</td>\n",
       "      <td>16802_right.jpeg</td>\n",
       "      <td>24.158670</td>\n",
       "    </tr>\n",
       "    <tr>\n",
       "      <td>17</td>\n",
       "      <td>40178_right.jpeg</td>\n",
       "      <td>24.540389</td>\n",
       "    </tr>\n",
       "    <tr>\n",
       "      <td>18</td>\n",
       "      <td>13588_right.jpeg</td>\n",
       "      <td>24.844783</td>\n",
       "    </tr>\n",
       "    <tr>\n",
       "      <td>19</td>\n",
       "      <td>13022_right.jpeg</td>\n",
       "      <td>25.645788</td>\n",
       "    </tr>\n",
       "    <tr>\n",
       "      <td>20</td>\n",
       "      <td>38186_right.jpeg</td>\n",
       "      <td>26.738609</td>\n",
       "    </tr>\n",
       "    <tr>\n",
       "      <td>21</td>\n",
       "      <td>9353_left.jpeg</td>\n",
       "      <td>26.765540</td>\n",
       "    </tr>\n",
       "    <tr>\n",
       "      <td>22</td>\n",
       "      <td>9216_left.jpeg</td>\n",
       "      <td>27.194082</td>\n",
       "    </tr>\n",
       "    <tr>\n",
       "      <td>23</td>\n",
       "      <td>4005_left.jpeg</td>\n",
       "      <td>27.514132</td>\n",
       "    </tr>\n",
       "    <tr>\n",
       "      <td>24</td>\n",
       "      <td>41387_right.jpeg</td>\n",
       "      <td>27.629150</td>\n",
       "    </tr>\n",
       "    <tr>\n",
       "      <td>25</td>\n",
       "      <td>8681_left.jpeg</td>\n",
       "      <td>27.705544</td>\n",
       "    </tr>\n",
       "    <tr>\n",
       "      <td>26</td>\n",
       "      <td>41761_left.jpeg</td>\n",
       "      <td>29.059304</td>\n",
       "    </tr>\n",
       "    <tr>\n",
       "      <td>27</td>\n",
       "      <td>11417_right.jpeg</td>\n",
       "      <td>29.681349</td>\n",
       "    </tr>\n",
       "    <tr>\n",
       "      <td>28</td>\n",
       "      <td>31659_left.jpeg</td>\n",
       "      <td>30.445497</td>\n",
       "    </tr>\n",
       "    <tr>\n",
       "      <td>29</td>\n",
       "      <td>40673_left.jpeg</td>\n",
       "      <td>30.499215</td>\n",
       "    </tr>\n",
       "  </tbody>\n",
       "</table>\n",
       "</div>"
      ],
      "text/plain": [
       "               index        val\n",
       "0    30723_left.jpeg   5.013091\n",
       "1    40178_left.jpeg   7.339136\n",
       "2    30675_left.jpeg  11.905828\n",
       "3   31659_right.jpeg  13.496241\n",
       "4   21788_right.jpeg  13.531731\n",
       "5   24472_right.jpeg  14.615163\n",
       "6    5258_right.jpeg  15.521148\n",
       "7    21788_left.jpeg  16.233466\n",
       "8   17411_right.jpeg  16.593806\n",
       "9     5258_left.jpeg  16.656767\n",
       "10   40183_left.jpeg  18.027307\n",
       "11  32230_right.jpeg  18.283418\n",
       "12  15038_right.jpeg  18.367996\n",
       "13  41852_right.jpeg  20.235759\n",
       "14   15459_left.jpeg  22.791994\n",
       "15   9353_right.jpeg  23.849952\n",
       "16  16802_right.jpeg  24.158670\n",
       "17  40178_right.jpeg  24.540389\n",
       "18  13588_right.jpeg  24.844783\n",
       "19  13022_right.jpeg  25.645788\n",
       "20  38186_right.jpeg  26.738609\n",
       "21    9353_left.jpeg  26.765540\n",
       "22    9216_left.jpeg  27.194082\n",
       "23    4005_left.jpeg  27.514132\n",
       "24  41387_right.jpeg  27.629150\n",
       "25    8681_left.jpeg  27.705544\n",
       "26   41761_left.jpeg  29.059304\n",
       "27  11417_right.jpeg  29.681349\n",
       "28   31659_left.jpeg  30.445497\n",
       "29   40673_left.jpeg  30.499215"
      ]
     },
     "execution_count": 29,
     "metadata": {},
     "output_type": "execute_result"
    }
   ],
   "source": [
    "df.head(30)"
   ]
  },
  {
   "cell_type": "code",
   "execution_count": 30,
   "metadata": {
    "colab": {},
    "colab_type": "code",
    "id": "0n3KEIDo3aHa"
   },
   "outputs": [],
   "source": [
    "to_delete = df[\"index\"].head(30).tolist()\n",
    "remove_blur_images(\"./data/train/4/\",to_delete)"
   ]
  },
  {
   "cell_type": "code",
   "execution_count": 0,
   "metadata": {
    "colab": {
     "base_uri": "https://localhost:8080/",
     "height": 34
    },
    "colab_type": "code",
    "id": "mPKiOZEx4Tte",
    "outputId": "a5039b84-578b-4c39-d577-447dc420d447"
   },
   "outputs": [
    {
     "name": "stdout",
     "output_type": "stream",
     "text": [
      "22810\n"
     ]
    }
   ],
   "source": [
    "!ls tmp/train/0 | wc -l"
   ]
  },
  {
   "cell_type": "code",
   "execution_count": 0,
   "metadata": {
    "colab": {
     "base_uri": "https://localhost:8080/",
     "height": 34
    },
    "colab_type": "code",
    "id": "-vosK4CG4Ty8",
    "outputId": "135be39c-138d-4ca6-cea9-00e6eee16aee"
   },
   "outputs": [
    {
     "name": "stdout",
     "output_type": "stream",
     "text": [
      "2343\n"
     ]
    }
   ],
   "source": [
    "!ls tmp/train/1 | wc -l"
   ]
  },
  {
   "cell_type": "code",
   "execution_count": 0,
   "metadata": {
    "colab": {
     "base_uri": "https://localhost:8080/",
     "height": 34
    },
    "colab_type": "code",
    "id": "O60KHGJ44TwK",
    "outputId": "201cafc8-de7a-459a-9392-11330ab88493"
   },
   "outputs": [
    {
     "name": "stdout",
     "output_type": "stream",
     "text": [
      "5042\n"
     ]
    }
   ],
   "source": [
    "!ls tmp/train/2 | wc -l"
   ]
  },
  {
   "cell_type": "code",
   "execution_count": 0,
   "metadata": {
    "colab": {
     "base_uri": "https://localhost:8080/",
     "height": 34
    },
    "colab_type": "code",
    "id": "wdovBQEj4TrT",
    "outputId": "a8d14f8e-e7bd-4737-c1f0-2b44a84ab366"
   },
   "outputs": [
    {
     "name": "stdout",
     "output_type": "stream",
     "text": [
      "833\n"
     ]
    }
   ],
   "source": [
    "!ls tmp/train/3 | wc -l"
   ]
  },
  {
   "cell_type": "code",
   "execution_count": 0,
   "metadata": {
    "colab": {
     "base_uri": "https://localhost:8080/",
     "height": 34
    },
    "colab_type": "code",
    "id": "C8d_t9044Top",
    "outputId": "eccdc2d8-4a32-416f-a11d-433e27b73f3e"
   },
   "outputs": [
    {
     "name": "stdout",
     "output_type": "stream",
     "text": [
      "678\n"
     ]
    }
   ],
   "source": [
    "!ls tmp/train/4 | wc -l"
   ]
  },
  {
   "cell_type": "markdown",
   "metadata": {},
   "source": [
    "### Data imbalance problem is there, which will affect classification\n",
    "![title](imjup/data_dist.jpeg)"
   ]
  },
  {
   "cell_type": "code",
   "execution_count": 35,
   "metadata": {
    "colab": {},
    "colab_type": "code",
    "id": "xQDnlpe94wNn"
   },
   "outputs": [],
   "source": [
    "remove_excess_images(\"data/train/0/\",14000)"
   ]
  },
  {
   "cell_type": "code",
   "execution_count": 0,
   "metadata": {
    "colab": {
     "base_uri": "https://localhost:8080/",
     "height": 34
    },
    "colab_type": "code",
    "id": "90mjFZPI4532",
    "outputId": "ed72c7b2-ec59-44fb-8a14-debe98b73012"
   },
   "outputs": [
    {
     "name": "stdout",
     "output_type": "stream",
     "text": [
      "8810\n"
     ]
    }
   ],
   "source": [
    "!ls tmp/train/0 | wc -l"
   ]
  },
  {
   "cell_type": "markdown",
   "metadata": {},
   "source": [
    "### Data Distribution after removing excess images which can be taken as undersampling as well based on the defined criteria above\n",
    "\n",
    "![title](imjup/data_dist_1.jpeg)"
   ]
  },
  {
   "cell_type": "code",
   "execution_count": 31,
   "metadata": {
    "colab": {},
    "colab_type": "code",
    "id": "nlLsv6Nv6hU1"
   },
   "outputs": [],
   "source": [
    "data_aug_val_1(\"data/train/1/\")"
   ]
  },
  {
   "cell_type": "code",
   "execution_count": 32,
   "metadata": {
    "colab": {},
    "colab_type": "code",
    "collapsed": true,
    "id": "E75ZIKe168ir"
   },
   "outputs": [
    {
     "ename": "FileNotFoundError",
     "evalue": "[WinError 3] The system cannot find the path specified: 'tmp/train/4/'",
     "output_type": "error",
     "traceback": [
      "\u001b[1;31m---------------------------------------------------------------------------\u001b[0m",
      "\u001b[1;31mFileNotFoundError\u001b[0m                         Traceback (most recent call last)",
      "\u001b[1;32m<ipython-input-32-a0fee2662538>\u001b[0m in \u001b[0;36m<module>\u001b[1;34m\u001b[0m\n\u001b[0;32m      1\u001b[0m \u001b[0mdata_aug_val\u001b[0m\u001b[1;33m(\u001b[0m\u001b[1;34m\"data/train/3/\"\u001b[0m\u001b[1;33m)\u001b[0m\u001b[1;33m\u001b[0m\u001b[1;33m\u001b[0m\u001b[0m\n\u001b[1;32m----> 2\u001b[1;33m \u001b[0mdata_aug_val\u001b[0m\u001b[1;33m(\u001b[0m\u001b[1;34m\"tmp/train/4/\"\u001b[0m\u001b[1;33m)\u001b[0m\u001b[1;33m\u001b[0m\u001b[1;33m\u001b[0m\u001b[0m\n\u001b[0m",
      "\u001b[1;32m<ipython-input-8-ca9b148241ac>\u001b[0m in \u001b[0;36mdata_aug_val\u001b[1;34m(path)\u001b[0m\n\u001b[0;32m      1\u001b[0m \u001b[1;32mdef\u001b[0m \u001b[0mdata_aug_val\u001b[0m\u001b[1;33m(\u001b[0m\u001b[0mpath\u001b[0m\u001b[1;33m)\u001b[0m\u001b[1;33m:\u001b[0m\u001b[1;33m\u001b[0m\u001b[1;33m\u001b[0m\u001b[0m\n\u001b[1;32m----> 2\u001b[1;33m     \u001b[0mlisting_test\u001b[0m \u001b[1;33m=\u001b[0m \u001b[0mos\u001b[0m\u001b[1;33m.\u001b[0m\u001b[0mlistdir\u001b[0m\u001b[1;33m(\u001b[0m\u001b[0mpath\u001b[0m\u001b[1;33m)\u001b[0m\u001b[1;33m\u001b[0m\u001b[1;33m\u001b[0m\u001b[0m\n\u001b[0m\u001b[0;32m      3\u001b[0m     \u001b[1;32mfor\u001b[0m \u001b[0mfile_name\u001b[0m \u001b[1;32min\u001b[0m \u001b[0mlisting_test\u001b[0m\u001b[1;33m:\u001b[0m\u001b[1;33m\u001b[0m\u001b[1;33m\u001b[0m\u001b[0m\n\u001b[0;32m      4\u001b[0m             \u001b[0mimage\u001b[0m \u001b[1;33m=\u001b[0m \u001b[0mio\u001b[0m\u001b[1;33m.\u001b[0m\u001b[0mimread\u001b[0m\u001b[1;33m(\u001b[0m\u001b[0mpath\u001b[0m\u001b[1;33m+\u001b[0m\u001b[0mfile_name\u001b[0m\u001b[1;33m)\u001b[0m\u001b[1;33m\u001b[0m\u001b[1;33m\u001b[0m\u001b[0m\n\u001b[0;32m      5\u001b[0m             \u001b[0mv_min\u001b[0m\u001b[1;33m,\u001b[0m \u001b[0mv_max\u001b[0m \u001b[1;33m=\u001b[0m \u001b[0mnp\u001b[0m\u001b[1;33m.\u001b[0m\u001b[0mpercentile\u001b[0m\u001b[1;33m(\u001b[0m\u001b[0mimage\u001b[0m\u001b[1;33m,\u001b[0m \u001b[1;33m(\u001b[0m\u001b[1;36m0.2\u001b[0m\u001b[1;33m,\u001b[0m \u001b[1;36m99.8\u001b[0m\u001b[1;33m)\u001b[0m\u001b[1;33m)\u001b[0m\u001b[1;33m\u001b[0m\u001b[1;33m\u001b[0m\u001b[0m\n",
      "\u001b[1;31mFileNotFoundError\u001b[0m: [WinError 3] The system cannot find the path specified: 'tmp/train/4/'"
     ]
    }
   ],
   "source": [
    "data_aug_val(\"data/train/3/\")\n"
   ]
  },
  {
   "cell_type": "code",
   "execution_count": 33,
   "metadata": {},
   "outputs": [],
   "source": [
    "data_aug_val(\"data/train/4/\")"
   ]
  },
  {
   "cell_type": "markdown",
   "metadata": {},
   "source": [
    "### Data Distribution after augmentation\n",
    "![title](imjup/data_dist_2.jpeg)\n",
    "\n",
    "#### Data imbalance has been considerably reduced now"
   ]
  },
  {
   "cell_type": "code",
   "execution_count": null,
   "metadata": {
    "colab": {
     "base_uri": "https://localhost:8080/",
     "height": 426647
    },
    "colab_type": "code",
    "id": "IAn7jYT-6-6H",
    "outputId": "3c5630d2-19ca-4d39-b2a5-2ef41aaf1fea"
   },
   "outputs": [],
   "source": [
    "#creating a zip file containing all the train images\n",
    "#using capture to mute the outputs\n",
    "%%capture\n",
    "!zip -r tmp/train{.zip,}"
   ]
  },
  {
   "cell_type": "markdown",
   "metadata": {},
   "source": [
    "### Saving Images in google Drive"
   ]
  },
  {
   "cell_type": "code",
   "execution_count": 0,
   "metadata": {
    "colab": {
     "base_uri": "https://localhost:8080/",
     "height": 34
    },
    "colab_type": "code",
    "id": "UDZMrnUR7ETW",
    "outputId": "a0ddbf53-a3b1-4913-e839-36cb8578e144"
   },
   "outputs": [
    {
     "data": {
      "text/plain": [
       "GoogleDriveFile({'id': '12pmf7HcIoXtDNw7jXwUnqv6eXAG-zkjA'})"
      ]
     },
     "execution_count": 105,
     "metadata": {
      "tags": []
     },
     "output_type": "execute_result"
    }
   ],
   "source": [
    "#uploading the zip created\n",
    "\n",
    "!pip install -U -q PyDrive\n",
    "from pydrive.auth import GoogleAuth\n",
    "from pydrive.drive import GoogleDrive\n",
    "from google.colab import auth\n",
    "from oauth2client.client import GoogleCredentials\n",
    "\n",
    "# 1. Authenticate and create the PyDrive client.\n",
    "auth.authenticate_user()\n",
    "gauth = GoogleAuth()\n",
    "gauth.credentials = GoogleCredentials.get_application_default()\n",
    "drive = GoogleDrive(gauth)\n",
    "\n",
    "\n",
    "# 2. Save Keras Model or weights on google drive\n",
    "\n",
    "# create on Colab directory\n",
    "  \n",
    "model_file = drive.CreateFile({'title' : 'train.zip'})\n",
    "model_file.SetContentFile('./tmp/train.zip')\n",
    "model_file.Upload()\n",
    "\n",
    "# download to google drive\n",
    "drive.CreateFile({'id': model_file.get('id')})\n"
   ]
  }
 ],
 "metadata": {
  "accelerator": "GPU",
  "colab": {
   "name": "Data Cleaning DR",
   "provenance": [],
   "version": "0.3.2"
  },
  "kernelspec": {
   "display_name": "Python 3",
   "language": "python",
   "name": "python3"
  },
  "language_info": {
   "codemirror_mode": {
    "name": "ipython",
    "version": 3
   },
   "file_extension": ".py",
   "mimetype": "text/x-python",
   "name": "python",
   "nbconvert_exporter": "python",
   "pygments_lexer": "ipython3",
   "version": "3.6.7"
  }
 },
 "nbformat": 4,
 "nbformat_minor": 1
}
